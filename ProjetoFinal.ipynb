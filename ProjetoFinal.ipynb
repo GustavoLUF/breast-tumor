{
  "cells": [
    {
      "attachments": {},
      "cell_type": "markdown",
      "metadata": {
        "id": "IbOe-bOxS_Xl"
      },
      "source": [
        "### Pós-graduação em Ciência de Dados e Machine Learning\n",
        "\n",
        "#### Disciplina: **Introdução a Redes Neurais**\n",
        "\n",
        "#### Projeto Final para disciplina Introdução a Redes Neurais\n",
        "\n",
        "<BR>\n",
        "    \n",
        "### **Integrantes**:\n",
        "#### Nome:  Gustavo Gomes Balbino\n",
        "#### RA: 52400106\n",
        "\n",
        "#### Nome:  Gustavo Lopes Urio Fonseca\n",
        "#### RA: 52400113\n",
        "---"
      ]
    },
    {
      "cell_type": "markdown",
      "metadata": {},
      "source": [
        "# Classificação de Tumores de Mama em Imagens de Ultrassom\n",
        "\n",
        "**Objetivos**  \n",
        "1. **Pré-processamento**: usar máscaras para recortar região de tumor.  \n",
        "2. **Modelagem**: ResNet50 pré-treinada + blocos customizados (PDFBlock + SEBlock).  \n",
        "3. **Treino**: otimizar usando loss binária, métricas AUC e acurácia.  \n",
        "4. **Avaliação**: matriz de confusão, AUC e relatório de resultados.\n",
        "\n",
        "**Métricas de Sucesso**  \n",
        "- Acurácia ≥ X%  \n",
        "- AUC ≥ Y%  \n",
        "- Boa separação das classes (confusion matrix bem balanceada)"
      ]
    },
    {
      "cell_type": "markdown",
      "metadata": {},
      "source": [
        "## 1. Introdução\n",
        "\n",
        "O câncer de mama é uma das principais causas de morte por câncer em mulheres. O diagnóstico precoce é fundamental para o sucesso do tratamento. Dentre os exames de imagem utilizados, o ultrassom é amplamente aplicado, principalmente para distinguir tumores benignos de malignos. Este projeto tem como objetivo construir um modelo baseado em deep learning capaz de classificar tumores a partir de imagens de ultrassom.\n"
      ]
    },
    {
      "cell_type": "markdown",
      "metadata": {},
      "source": [
        "## 2. Objetivos do Projeto\n",
        "\n",
        "- Realizar o pré-processamento das imagens utilizando as máscaras de segmentação para destacar a região de interesse.\n",
        "\n",
        "- Desenvolver um modelo de classificação utilizando uma rede EfficientNetB0 pré-treinada, complementada com blocos customizados (PDFBlock e SEBlock).\n",
        "\n",
        "- Treinar e avaliar o modelo utilizando métricas como AUC e acurácia.\n",
        "\n",
        "- Analisar o desempenho através de matriz de confusão e relatório de classificação.\n"
      ]
    },
    {
      "cell_type": "markdown",
      "metadata": {},
      "source": [
        "---\n",
        "## 3. Metodologia\n",
        "\n",
        "Nesta seção descrevemos todo o pipeline, desde o ambiente e bibliotecas até a modelagem e treinamento."
      ]
    },
    {
      "cell_type": "code",
      "execution_count": null,
      "metadata": {},
      "outputs": [
        {
          "name": "stderr",
          "output_type": "stream",
          "text": [
            "2025-04-29 19:32:46.030208: E external/local_xla/xla/stream_executor/cuda/cuda_fft.cc:467] Unable to register cuFFT factory: Attempting to register factory for plugin cuFFT when one has already been registered\n",
            "WARNING: All log messages before absl::InitializeLog() is called are written to STDERR\n",
            "E0000 00:00:1745965966.042841  247347 cuda_dnn.cc:8579] Unable to register cuDNN factory: Attempting to register factory for plugin cuDNN when one has already been registered\n",
            "E0000 00:00:1745965966.046731  247347 cuda_blas.cc:1407] Unable to register cuBLAS factory: Attempting to register factory for plugin cuBLAS when one has already been registered\n",
            "W0000 00:00:1745965966.057816  247347 computation_placer.cc:177] computation placer already registered. Please check linkage and avoid linking the same target more than once.\n",
            "W0000 00:00:1745965966.057893  247347 computation_placer.cc:177] computation placer already registered. Please check linkage and avoid linking the same target more than once.\n",
            "W0000 00:00:1745965966.057896  247347 computation_placer.cc:177] computation placer already registered. Please check linkage and avoid linking the same target more than once.\n",
            "W0000 00:00:1745965966.057897  247347 computation_placer.cc:177] computation placer already registered. Please check linkage and avoid linking the same target more than once.\n",
            "2025-04-29 19:32:46.063049: I tensorflow/core/platform/cpu_feature_guard.cc:210] This TensorFlow binary is optimized to use available CPU instructions in performance-critical operations.\n",
            "To enable the following instructions: AVX2 FMA, in other operations, rebuild TensorFlow with the appropriate compiler flags.\n"
          ]
        },
        {
          "data": {
            "text/plain": [
              "0"
            ]
          },
          "execution_count": 1,
          "metadata": {},
          "output_type": "execute_result"
        }
      ],
      "source": [
        "import gc\n",
        "import tensorflow as tf\n",
        "\n",
        "# Limpar sessão TensorFlow\n",
        "tf.keras.backend.clear_session()\n",
        "\n",
        "# Coletar lixo do Python\n",
        "gc.collect()\n"
      ]
    },
    {
      "cell_type": "markdown",
      "metadata": {},
      "source": [
        "### 3.1 Ambiente e Bibliotecas\n",
        "\n",
        "- Python 3.9  \n",
        "- TensorFlow / Keras  \n",
        "- scikit-learn, pandas, numpy, matplotlib  \n",
        "- Execução com suporte a GPU (RTX 2060 ou similar)"
      ]
    },
    {
      "cell_type": "code",
      "execution_count": null,
      "metadata": {},
      "outputs": [
        {
          "name": "stdout",
          "output_type": "stream",
          "text": [
            "Dispositivos visíveis: [PhysicalDevice(name='/physical_device:GPU:0', device_type='GPU')]\n",
            "Versão do TensorFlow: 2.19.0\n"
          ]
        }
      ],
      "source": [
        "import os\n",
        "import glob\n",
        "\n",
        "# Removido: os.environ[\"CUDA_VISIBLE_DEVICES\"] = \"\"\n",
        "\n",
        "import numpy as np\n",
        "import pandas as pd\n",
        "import matplotlib.pyplot as plt\n",
        "\n",
        "from sklearn.model_selection import train_test_split\n",
        "from sklearn.utils import shuffle as skshuffle\n",
        "\n",
        "import tensorflow as tf\n",
        "from tensorflow import keras\n",
        "from tensorflow.keras import layers, callbacks, Input, Model\n",
        "from tensorflow.keras.applications import ResNet50, EfficientNetB0\n",
        "from tensorflow.keras.preprocessing.image import ImageDataGenerator\n",
        "\n",
        "from sklearn.metrics import confusion_matrix, classification_report\n",
        "import seaborn as sns\n",
        "\n",
        "\n",
        "print(\"Dispositivos visíveis:\", tf.config.list_physical_devices('GPU'))\n",
        "print(\"Versão do TensorFlow:\", tf.__version__)\n"
      ]
    },
    {
      "cell_type": "markdown",
      "metadata": {},
      "source": [
        "### 3.2 Exploração dos Dados\n",
        "\n",
        "O dataset possui 811 imagens e 811 máscaras, divididos em:\n",
        "- Benignos: 358  \n",
        "- Malignos: 453  "
      ]
    },
    {
      "cell_type": "code",
      "execution_count": null,
      "metadata": {},
      "outputs": [
        {
          "data": {
            "application/vnd.microsoft.datawrangler.viewer.v0+json": {
              "columns": [
                {
                  "name": "index",
                  "rawType": "int64",
                  "type": "integer"
                },
                {
                  "name": "Level",
                  "rawType": "int64",
                  "type": "integer"
                },
                {
                  "name": "Name",
                  "rawType": "object",
                  "type": "string"
                },
                {
                  "name": "Type",
                  "rawType": "object",
                  "type": "string"
                },
                {
                  "name": "Description",
                  "rawType": "object",
                  "type": "string"
                },
                {
                  "name": "File Count",
                  "rawType": "int64",
                  "type": "integer"
                }
              ],
              "conversionMethod": "pd.DataFrame",
              "ref": "7b75f173-2bc7-4c16-90f3-26d4aa040d0f",
              "rows": [
                [
                  "0",
                  "0",
                  ".",
                  "directory",
                  "Root directory",
                  "2"
                ],
                [
                  "1",
                  "1",
                  "images",
                  "directory",
                  "Contains all ultrasound images",
                  "811"
                ],
                [
                  "2",
                  "1",
                  "masks",
                  "directory",
                  "Contains corresponding segmentation masks",
                  "811"
                ],
                [
                  "3",
                  "1",
                  "Benign",
                  "directory",
                  "Contains benign tumor data",
                  "2"
                ],
                [
                  "4",
                  "2",
                  "Benign/images",
                  "directory",
                  "Ultrasound images of benign tumors",
                  "358"
                ],
                [
                  "5",
                  "2",
                  "Benign/masks",
                  "directory",
                  "Segmentation masks for benign tumors",
                  "358"
                ],
                [
                  "6",
                  "1",
                  "Malignant",
                  "directory",
                  "Contains malignant tumor data",
                  "2"
                ],
                [
                  "7",
                  "2",
                  "Malignant/images",
                  "directory",
                  "Ultrasound images of malignant tumors",
                  "453"
                ],
                [
                  "8",
                  "2",
                  "Malignant/masks",
                  "directory",
                  "Segmentation masks for malignant tumors",
                  "453"
                ]
              ],
              "shape": {
                "columns": 5,
                "rows": 9
              }
            },
            "text/html": [
              "<div>\n",
              "<style scoped>\n",
              "    .dataframe tbody tr th:only-of-type {\n",
              "        vertical-align: middle;\n",
              "    }\n",
              "\n",
              "    .dataframe tbody tr th {\n",
              "        vertical-align: top;\n",
              "    }\n",
              "\n",
              "    .dataframe thead th {\n",
              "        text-align: right;\n",
              "    }\n",
              "</style>\n",
              "<table border=\"1\" class=\"dataframe\">\n",
              "  <thead>\n",
              "    <tr style=\"text-align: right;\">\n",
              "      <th></th>\n",
              "      <th>Level</th>\n",
              "      <th>Name</th>\n",
              "      <th>Type</th>\n",
              "      <th>Description</th>\n",
              "      <th>File Count</th>\n",
              "    </tr>\n",
              "  </thead>\n",
              "  <tbody>\n",
              "    <tr>\n",
              "      <th>0</th>\n",
              "      <td>0</td>\n",
              "      <td>.</td>\n",
              "      <td>directory</td>\n",
              "      <td>Root directory</td>\n",
              "      <td>2</td>\n",
              "    </tr>\n",
              "    <tr>\n",
              "      <th>1</th>\n",
              "      <td>1</td>\n",
              "      <td>images</td>\n",
              "      <td>directory</td>\n",
              "      <td>Contains all ultrasound images</td>\n",
              "      <td>811</td>\n",
              "    </tr>\n",
              "    <tr>\n",
              "      <th>2</th>\n",
              "      <td>1</td>\n",
              "      <td>masks</td>\n",
              "      <td>directory</td>\n",
              "      <td>Contains corresponding segmentation masks</td>\n",
              "      <td>811</td>\n",
              "    </tr>\n",
              "    <tr>\n",
              "      <th>3</th>\n",
              "      <td>1</td>\n",
              "      <td>Benign</td>\n",
              "      <td>directory</td>\n",
              "      <td>Contains benign tumor data</td>\n",
              "      <td>2</td>\n",
              "    </tr>\n",
              "    <tr>\n",
              "      <th>4</th>\n",
              "      <td>2</td>\n",
              "      <td>Benign/images</td>\n",
              "      <td>directory</td>\n",
              "      <td>Ultrasound images of benign tumors</td>\n",
              "      <td>358</td>\n",
              "    </tr>\n",
              "    <tr>\n",
              "      <th>5</th>\n",
              "      <td>2</td>\n",
              "      <td>Benign/masks</td>\n",
              "      <td>directory</td>\n",
              "      <td>Segmentation masks for benign tumors</td>\n",
              "      <td>358</td>\n",
              "    </tr>\n",
              "    <tr>\n",
              "      <th>6</th>\n",
              "      <td>1</td>\n",
              "      <td>Malignant</td>\n",
              "      <td>directory</td>\n",
              "      <td>Contains malignant tumor data</td>\n",
              "      <td>2</td>\n",
              "    </tr>\n",
              "    <tr>\n",
              "      <th>7</th>\n",
              "      <td>2</td>\n",
              "      <td>Malignant/images</td>\n",
              "      <td>directory</td>\n",
              "      <td>Ultrasound images of malignant tumors</td>\n",
              "      <td>453</td>\n",
              "    </tr>\n",
              "    <tr>\n",
              "      <th>8</th>\n",
              "      <td>2</td>\n",
              "      <td>Malignant/masks</td>\n",
              "      <td>directory</td>\n",
              "      <td>Segmentation masks for malignant tumors</td>\n",
              "      <td>453</td>\n",
              "    </tr>\n",
              "  </tbody>\n",
              "</table>\n",
              "</div>"
            ],
            "text/plain": [
              "   Level              Name       Type  \\\n",
              "0      0                 .  directory   \n",
              "1      1            images  directory   \n",
              "2      1             masks  directory   \n",
              "3      1            Benign  directory   \n",
              "4      2     Benign/images  directory   \n",
              "5      2      Benign/masks  directory   \n",
              "6      1         Malignant  directory   \n",
              "7      2  Malignant/images  directory   \n",
              "8      2   Malignant/masks  directory   \n",
              "\n",
              "                                 Description  File Count  \n",
              "0                             Root directory           2  \n",
              "1             Contains all ultrasound images         811  \n",
              "2  Contains corresponding segmentation masks         811  \n",
              "3                 Contains benign tumor data           2  \n",
              "4         Ultrasound images of benign tumors         358  \n",
              "5       Segmentation masks for benign tumors         358  \n",
              "6              Contains malignant tumor data           2  \n",
              "7      Ultrasound images of malignant tumors         453  \n",
              "8    Segmentation masks for malignant tumors         453  "
            ]
          },
          "execution_count": 3,
          "metadata": {},
          "output_type": "execute_result"
        }
      ],
      "source": [
        "df = pd.read_csv('dataset.csv', sep=',')\n",
        "df.head(10)"
      ]
    },
    {
      "cell_type": "markdown",
      "metadata": {},
      "source": [
        "##### Abaixo vamos listar imagens, máscaras e labels"
      ]
    },
    {
      "cell_type": "code",
      "execution_count": null,
      "metadata": {},
      "outputs": [
        {
          "name": "stdout",
          "output_type": "stream",
          "text": [
            "Total: 811 imagens, 811 máscaras\n",
            "Distribuição: {1: 453, 0: 358}\n"
          ]
        }
      ],
      "source": [
        "BASE_DIR = \"BUS_UC/BUS_UC/BUS_UC\"\n",
        "IMG_PATTERN = \"*.png\"\n",
        "\n",
        "# diretórios\n",
        "dirs = {\n",
        "    0: (os.path.join(BASE_DIR, \"Benign\",    \"images\"),\n",
        "        os.path.join(BASE_DIR, \"Benign\",    \"masks\")),\n",
        "    1: (os.path.join(BASE_DIR, \"Malignant\", \"images\"),\n",
        "        os.path.join(BASE_DIR, \"Malignant\", \"masks\")),\n",
        "}\n",
        "\n",
        "all_images, all_masks, all_labels = [], [], []\n",
        "for label, (img_dir, mask_dir) in dirs.items():\n",
        "    imgs  = sorted(glob.glob(os.path.join(img_dir,  IMG_PATTERN)))\n",
        "    masks = sorted(glob.glob(os.path.join(mask_dir, IMG_PATTERN)))\n",
        "    all_images += imgs\n",
        "    all_masks  += masks\n",
        "    all_labels += [label] * len(imgs)\n",
        "\n",
        "print(f\"Total: {len(all_images)} imagens, {len(all_masks)} máscaras\")\n",
        "print(\"Distribuição:\", pd.Series(all_labels).value_counts().to_dict())"
      ]
    },
    {
      "cell_type": "markdown",
      "metadata": {},
      "source": [
        "### 3.4 Divisão dos Dados\n",
        "\n",
        "- Treino: 70% (567)  \n",
        "- Validação: 15% (122)  \n",
        "- Teste: 15% (122)"
      ]
    },
    {
      "cell_type": "code",
      "execution_count": null,
      "metadata": {},
      "outputs": [
        {
          "name": "stdout",
          "output_type": "stream",
          "text": [
            "Train: 567 | Val: 122 | Test: 122\n"
          ]
        }
      ],
      "source": [
        "imgs, masks, labs = skshuffle(all_images, all_masks, all_labels, random_state=42)\n",
        "X_train, X_rem, M_train, M_rem, y_train, y_rem = train_test_split(\n",
        "    imgs, masks, labs,\n",
        "    test_size=0.30, stratify=labs, random_state=42\n",
        ")\n",
        "X_val, X_test, M_val, M_test, y_val, y_test = train_test_split(\n",
        "    X_rem, M_rem, y_rem,\n",
        "    test_size=0.50, stratify=y_rem, random_state=42\n",
        ")\n",
        "\n",
        "print(f\"Train: {len(X_train)} | Val: {len(X_val)} | Test: {len(X_test)}\")"
      ]
    },
    {
      "cell_type": "markdown",
      "metadata": {},
      "source": [
        "### 3.3 Pré-processamento e Aumentação\n",
        "\n",
        "- Normalização para [0,1]  \n",
        "- Recorte da região de interesse usando máscaras  \n",
        "- Aumentação aplicada apenas no treino: flips, brilho, contraste e saturação aleatórios  "
      ]
    },
    {
      "cell_type": "code",
      "execution_count": null,
      "metadata": {},
      "outputs": [],
      "source": [
        "IMG_SIZE = (224, 224)\n",
        "\n",
        "def parse_image_mask(img_path, mask_path, label):\n",
        "    # lê e normaliza imagem\n",
        "    img = tf.io.read_file(img_path)\n",
        "    img = tf.image.decode_png(img, channels=3)\n",
        "    img = tf.image.resize(img, IMG_SIZE) / 255.0\n",
        "\n",
        "    # lê máscara e redimensiona\n",
        "    mask = tf.io.read_file(mask_path)\n",
        "    mask = tf.image.decode_png(mask, channels=1)\n",
        "    mask = tf.image.resize(mask, IMG_SIZE)\n",
        "\n",
        "    # aplica máscara\n",
        "    img = img * mask\n",
        "\n",
        "    # AUGMENTAÇÃO APENAS NO TREINO\n",
        "    if tf.random.uniform(()) > 0.5:\n",
        "        img = tf.image.random_flip_left_right(img)\n",
        "    if tf.random.uniform(()) > 0.5:\n",
        "        img = tf.image.random_flip_up_down(img)\n",
        "    if tf.random.uniform(()) > 0.5:\n",
        "        img = tf.image.random_brightness(img, max_delta=0.15)\n",
        "    if tf.random.uniform(()) > 0.5:\n",
        "        img = tf.image.random_contrast(img, lower=0.8, upper=1.2)\n",
        "    if tf.random.uniform(()) > 0.5:\n",
        "        img = tf.image.random_saturation(img, lower=0.8, upper=1.2)\n",
        "\n",
        "    return img, label"
      ]
    },
    {
      "cell_type": "markdown",
      "metadata": {},
      "source": [
        "### 3.5 Criação do Pipeline com `tf.data`\n",
        "\n",
        "Construção dos `Dataset` e `DataLoader` para treino, validação e teste."
      ]
    },
    {
      "cell_type": "code",
      "execution_count": null,
      "metadata": {},
      "outputs": [
        {
          "name": "stderr",
          "output_type": "stream",
          "text": [
            "I0000 00:00:1745965968.986928  247347 gpu_device.cc:2019] Created device /job:localhost/replica:0/task:0/device:GPU:0 with 4047 MB memory:  -> device: 0, name: NVIDIA GeForce RTX 2060, pci bus id: 0000:01:00.0, compute capability: 7.5\n"
          ]
        },
        {
          "name": "stdout",
          "output_type": "stream",
          "text": [
            "Batch imagens: (16, 224, 224, 3) Batch labels: [1 1 1 0 1 0 1 1 0 1 1 0 1 1 0 1]\n"
          ]
        },
        {
          "name": "stderr",
          "output_type": "stream",
          "text": [
            "2025-04-29 19:32:49.525397: I tensorflow/core/framework/local_rendezvous.cc:407] Local rendezvous is aborting with status: OUT_OF_RANGE: End of sequence\n"
          ]
        }
      ],
      "source": [
        "def make_dataset(imgs, masks, labels, batch_size=32, shuffle=True):\n",
        "    ds = tf.data.Dataset.from_tensor_slices((imgs, masks, labels))\n",
        "    if shuffle:\n",
        "        ds = ds.shuffle(len(imgs))\n",
        "    ds = ds.map(lambda i, m, l: parse_image_mask(i, m, l),\n",
        "                num_parallel_calls=tf.data.AUTOTUNE)\n",
        "    ds = ds.batch(batch_size).prefetch(tf.data.AUTOTUNE)\n",
        "    return ds\n",
        "\n",
        "train_ds = make_dataset(X_train, M_train, y_train)\n",
        "val_ds = make_dataset(X_val, M_val, y_val, shuffle=False)\n",
        "test_ds = make_dataset(X_test, M_test, y_test, shuffle=False)\n",
        "\n",
        "# verificação rápida\n",
        "for imgs, labs in train_ds.take(1):\n",
        "    print(\"Batch imagens:\", imgs.shape, \"Batch labels:\", labs.numpy())"
      ]
    },
    {
      "cell_type": "markdown",
      "metadata": {},
      "source": [
        "### 3.6 Blocos Customizados\n",
        "\n",
        "Definição de:\n",
        "- **PDFBlock**: fusão piramidal com convoluções dilatadas  \n",
        "- **SEBlock**: recalibração channel-wise (Squeeze-and-Excitation)\n"
      ]
    },
    {
      "cell_type": "code",
      "execution_count": null,
      "metadata": {},
      "outputs": [],
      "source": [
        "class SEBlock(layers.Layer):\n",
        "    \"\"\"Squeeze-and-Excitation: recalibra dinamicamente a importância dos canais.\"\"\"\n",
        "    def __init__(self, channels, reduction=16, **kwargs):\n",
        "        super().__init__(**kwargs)\n",
        "        self.global_pool = layers.GlobalAveragePooling2D()\n",
        "        self.fc1         = layers.Dense(channels // reduction, activation=\"relu\")\n",
        "        self.fc2         = layers.Dense(channels,          activation=\"sigmoid\")\n",
        "        self.reshape     = layers.Reshape((1, 1, channels))\n",
        "        self.multiply    = layers.Multiply()\n",
        "\n",
        "    def call(self, x):\n",
        "        se = self.global_pool(x)      # [B, C]\n",
        "        se = self.fc1(se)             # [B, C/r]\n",
        "        se = self.fc2(se)             # [B, C]\n",
        "        se = self.reshape(se)         # [B, 1, 1, C]\n",
        "        return self.multiply([x, se])\n",
        "\n",
        "class PDFBlock(layers.Layer):\n",
        "    \"\"\"Pyramid-Dilated Fusion: múltiplas convoluções dilatadas + projeção 1×1.\"\"\"\n",
        "    def __init__(self, out_channels, kernel_sizes, dilations, **kwargs):\n",
        "        super().__init__(**kwargs)\n",
        "        assert len(kernel_sizes) == len(dilations), \"kernel_sizes e dilations devem ter mesmo tamanho\"\n",
        "        self.branches = []\n",
        "        for k, d in zip(kernel_sizes, dilations):\n",
        "            self.branches.append(\n",
        "                layers.Conv2D(\n",
        "                    filters=out_channels,\n",
        "                    kernel_size=k,\n",
        "                    padding=\"same\",\n",
        "                    dilation_rate=d,\n",
        "                    activation=\"relu\"\n",
        "                )\n",
        "            )\n",
        "        self.project = layers.Conv2D(filters=out_channels, kernel_size=1, activation=\"relu\")\n",
        "\n",
        "    def call(self, x):\n",
        "        feats = [branch(x) for branch in self.branches]\n",
        "        x_cat = tf.concat(feats, axis=-1)\n",
        "        return self.project(x_cat)"
      ]
    },
    {
      "cell_type": "markdown",
      "metadata": {},
      "source": [
        "### 3.7 Arquitetura de Classificação\n",
        "\n",
        "Backbone: EfficientNetB0 pré-treinado  \n",
        "→ PDFBlock → SEBlock → GAP → Dense(256) → Dropout(0.5) → Dense(1, sigmoid)\n"
      ]
    },
    {
      "cell_type": "code",
      "execution_count": null,
      "metadata": {},
      "outputs": [
        {
          "data": {
            "text/html": [
              "<pre style=\"white-space:pre;overflow-x:auto;line-height:normal;font-family:Menlo,'DejaVu Sans Mono',consolas,'Courier New',monospace\"><span style=\"font-weight: bold\">Model: \"MobileNetV2_PDF_SE_Clf\"</span>\n",
              "</pre>\n"
            ],
            "text/plain": [
              "\u001b[1mModel: \"MobileNetV2_PDF_SE_Clf\"\u001b[0m\n"
            ]
          },
          "metadata": {},
          "output_type": "display_data"
        },
        {
          "data": {
            "text/html": [
              "<pre style=\"white-space:pre;overflow-x:auto;line-height:normal;font-family:Menlo,'DejaVu Sans Mono',consolas,'Courier New',monospace\">┏━━━━━━━━━━━━━━━━━━━━━━━━━━━━━━━━━┳━━━━━━━━━━━━━━━━━━━━━━━━┳━━━━━━━━━━━━━━━┓\n",
              "┃<span style=\"font-weight: bold\"> Layer (type)                    </span>┃<span style=\"font-weight: bold\"> Output Shape           </span>┃<span style=\"font-weight: bold\">       Param # </span>┃\n",
              "┡━━━━━━━━━━━━━━━━━━━━━━━━━━━━━━━━━╇━━━━━━━━━━━━━━━━━━━━━━━━╇━━━━━━━━━━━━━━━┩\n",
              "│ input_image (<span style=\"color: #0087ff; text-decoration-color: #0087ff\">InputLayer</span>)        │ (<span style=\"color: #00d7ff; text-decoration-color: #00d7ff\">None</span>, <span style=\"color: #00af00; text-decoration-color: #00af00\">224</span>, <span style=\"color: #00af00; text-decoration-color: #00af00\">224</span>, <span style=\"color: #00af00; text-decoration-color: #00af00\">3</span>)    │             <span style=\"color: #00af00; text-decoration-color: #00af00\">0</span> │\n",
              "├─────────────────────────────────┼────────────────────────┼───────────────┤\n",
              "│ efficientnetb0 (<span style=\"color: #0087ff; text-decoration-color: #0087ff\">Functional</span>)     │ (<span style=\"color: #00d7ff; text-decoration-color: #00d7ff\">None</span>, <span style=\"color: #00af00; text-decoration-color: #00af00\">7</span>, <span style=\"color: #00af00; text-decoration-color: #00af00\">7</span>, <span style=\"color: #00af00; text-decoration-color: #00af00\">1280</span>)     │     <span style=\"color: #00af00; text-decoration-color: #00af00\">4,049,571</span> │\n",
              "├─────────────────────────────────┼────────────────────────┼───────────────┤\n",
              "│ pdf_block (<span style=\"color: #0087ff; text-decoration-color: #0087ff\">PDFBlock</span>)            │ (<span style=\"color: #00d7ff; text-decoration-color: #00d7ff\">None</span>, <span style=\"color: #00af00; text-decoration-color: #00af00\">7</span>, <span style=\"color: #00af00; text-decoration-color: #00af00\">7</span>, <span style=\"color: #00af00; text-decoration-color: #00af00\">512</span>)      │    <span style=\"color: #00af00; text-decoration-color: #00af00\">56,101,376</span> │\n",
              "├─────────────────────────────────┼────────────────────────┼───────────────┤\n",
              "│ se_block (<span style=\"color: #0087ff; text-decoration-color: #0087ff\">SEBlock</span>)              │ (<span style=\"color: #00d7ff; text-decoration-color: #00d7ff\">None</span>, <span style=\"color: #00af00; text-decoration-color: #00af00\">7</span>, <span style=\"color: #00af00; text-decoration-color: #00af00\">7</span>, <span style=\"color: #00af00; text-decoration-color: #00af00\">512</span>)      │        <span style=\"color: #00af00; text-decoration-color: #00af00\">33,312</span> │\n",
              "├─────────────────────────────────┼────────────────────────┼───────────────┤\n",
              "│ gap (<span style=\"color: #0087ff; text-decoration-color: #0087ff\">GlobalAveragePooling2D</span>)    │ (<span style=\"color: #00d7ff; text-decoration-color: #00d7ff\">None</span>, <span style=\"color: #00af00; text-decoration-color: #00af00\">512</span>)            │             <span style=\"color: #00af00; text-decoration-color: #00af00\">0</span> │\n",
              "├─────────────────────────────────┼────────────────────────┼───────────────┤\n",
              "│ fc1 (<span style=\"color: #0087ff; text-decoration-color: #0087ff\">Dense</span>)                     │ (<span style=\"color: #00d7ff; text-decoration-color: #00d7ff\">None</span>, <span style=\"color: #00af00; text-decoration-color: #00af00\">256</span>)            │       <span style=\"color: #00af00; text-decoration-color: #00af00\">131,328</span> │\n",
              "├─────────────────────────────────┼────────────────────────┼───────────────┤\n",
              "│ dropout (<span style=\"color: #0087ff; text-decoration-color: #0087ff\">Dropout</span>)               │ (<span style=\"color: #00d7ff; text-decoration-color: #00d7ff\">None</span>, <span style=\"color: #00af00; text-decoration-color: #00af00\">256</span>)            │             <span style=\"color: #00af00; text-decoration-color: #00af00\">0</span> │\n",
              "├─────────────────────────────────┼────────────────────────┼───────────────┤\n",
              "│ output (<span style=\"color: #0087ff; text-decoration-color: #0087ff\">Dense</span>)                  │ (<span style=\"color: #00d7ff; text-decoration-color: #00d7ff\">None</span>, <span style=\"color: #00af00; text-decoration-color: #00af00\">1</span>)              │           <span style=\"color: #00af00; text-decoration-color: #00af00\">257</span> │\n",
              "└─────────────────────────────────┴────────────────────────┴───────────────┘\n",
              "</pre>\n"
            ],
            "text/plain": [
              "┏━━━━━━━━━━━━━━━━━━━━━━━━━━━━━━━━━┳━━━━━━━━━━━━━━━━━━━━━━━━┳━━━━━━━━━━━━━━━┓\n",
              "┃\u001b[1m \u001b[0m\u001b[1mLayer (type)                   \u001b[0m\u001b[1m \u001b[0m┃\u001b[1m \u001b[0m\u001b[1mOutput Shape          \u001b[0m\u001b[1m \u001b[0m┃\u001b[1m \u001b[0m\u001b[1m      Param #\u001b[0m\u001b[1m \u001b[0m┃\n",
              "┡━━━━━━━━━━━━━━━━━━━━━━━━━━━━━━━━━╇━━━━━━━━━━━━━━━━━━━━━━━━╇━━━━━━━━━━━━━━━┩\n",
              "│ input_image (\u001b[38;5;33mInputLayer\u001b[0m)        │ (\u001b[38;5;45mNone\u001b[0m, \u001b[38;5;34m224\u001b[0m, \u001b[38;5;34m224\u001b[0m, \u001b[38;5;34m3\u001b[0m)    │             \u001b[38;5;34m0\u001b[0m │\n",
              "├─────────────────────────────────┼────────────────────────┼───────────────┤\n",
              "│ efficientnetb0 (\u001b[38;5;33mFunctional\u001b[0m)     │ (\u001b[38;5;45mNone\u001b[0m, \u001b[38;5;34m7\u001b[0m, \u001b[38;5;34m7\u001b[0m, \u001b[38;5;34m1280\u001b[0m)     │     \u001b[38;5;34m4,049,571\u001b[0m │\n",
              "├─────────────────────────────────┼────────────────────────┼───────────────┤\n",
              "│ pdf_block (\u001b[38;5;33mPDFBlock\u001b[0m)            │ (\u001b[38;5;45mNone\u001b[0m, \u001b[38;5;34m7\u001b[0m, \u001b[38;5;34m7\u001b[0m, \u001b[38;5;34m512\u001b[0m)      │    \u001b[38;5;34m56,101,376\u001b[0m │\n",
              "├─────────────────────────────────┼────────────────────────┼───────────────┤\n",
              "│ se_block (\u001b[38;5;33mSEBlock\u001b[0m)              │ (\u001b[38;5;45mNone\u001b[0m, \u001b[38;5;34m7\u001b[0m, \u001b[38;5;34m7\u001b[0m, \u001b[38;5;34m512\u001b[0m)      │        \u001b[38;5;34m33,312\u001b[0m │\n",
              "├─────────────────────────────────┼────────────────────────┼───────────────┤\n",
              "│ gap (\u001b[38;5;33mGlobalAveragePooling2D\u001b[0m)    │ (\u001b[38;5;45mNone\u001b[0m, \u001b[38;5;34m512\u001b[0m)            │             \u001b[38;5;34m0\u001b[0m │\n",
              "├─────────────────────────────────┼────────────────────────┼───────────────┤\n",
              "│ fc1 (\u001b[38;5;33mDense\u001b[0m)                     │ (\u001b[38;5;45mNone\u001b[0m, \u001b[38;5;34m256\u001b[0m)            │       \u001b[38;5;34m131,328\u001b[0m │\n",
              "├─────────────────────────────────┼────────────────────────┼───────────────┤\n",
              "│ dropout (\u001b[38;5;33mDropout\u001b[0m)               │ (\u001b[38;5;45mNone\u001b[0m, \u001b[38;5;34m256\u001b[0m)            │             \u001b[38;5;34m0\u001b[0m │\n",
              "├─────────────────────────────────┼────────────────────────┼───────────────┤\n",
              "│ output (\u001b[38;5;33mDense\u001b[0m)                  │ (\u001b[38;5;45mNone\u001b[0m, \u001b[38;5;34m1\u001b[0m)              │           \u001b[38;5;34m257\u001b[0m │\n",
              "└─────────────────────────────────┴────────────────────────┴───────────────┘\n"
            ]
          },
          "metadata": {},
          "output_type": "display_data"
        },
        {
          "data": {
            "text/html": [
              "<pre style=\"white-space:pre;overflow-x:auto;line-height:normal;font-family:Menlo,'DejaVu Sans Mono',consolas,'Courier New',monospace\"><span style=\"font-weight: bold\"> Total params: </span><span style=\"color: #00af00; text-decoration-color: #00af00\">60,315,844</span> (230.09 MB)\n",
              "</pre>\n"
            ],
            "text/plain": [
              "\u001b[1m Total params: \u001b[0m\u001b[38;5;34m60,315,844\u001b[0m (230.09 MB)\n"
            ]
          },
          "metadata": {},
          "output_type": "display_data"
        },
        {
          "data": {
            "text/html": [
              "<pre style=\"white-space:pre;overflow-x:auto;line-height:normal;font-family:Menlo,'DejaVu Sans Mono',consolas,'Courier New',monospace\"><span style=\"font-weight: bold\"> Trainable params: </span><span style=\"color: #00af00; text-decoration-color: #00af00\">56,266,273</span> (214.64 MB)\n",
              "</pre>\n"
            ],
            "text/plain": [
              "\u001b[1m Trainable params: \u001b[0m\u001b[38;5;34m56,266,273\u001b[0m (214.64 MB)\n"
            ]
          },
          "metadata": {},
          "output_type": "display_data"
        },
        {
          "data": {
            "text/html": [
              "<pre style=\"white-space:pre;overflow-x:auto;line-height:normal;font-family:Menlo,'DejaVu Sans Mono',consolas,'Courier New',monospace\"><span style=\"font-weight: bold\"> Non-trainable params: </span><span style=\"color: #00af00; text-decoration-color: #00af00\">4,049,571</span> (15.45 MB)\n",
              "</pre>\n"
            ],
            "text/plain": [
              "\u001b[1m Non-trainable params: \u001b[0m\u001b[38;5;34m4,049,571\u001b[0m (15.45 MB)\n"
            ]
          },
          "metadata": {},
          "output_type": "display_data"
        }
      ],
      "source": [
        "# 1) Backbone ResNet50 sem top layer, retendo mapa espacial\n",
        "# Usando EfficientNetB0 como backbone por ser mais leve e rápido\n",
        "backbone = EfficientNetB0(\n",
        "    include_top=False,\n",
        "    weights=\"imagenet\",\n",
        "    input_shape=(*IMG_SIZE, 3)\n",
        ")\n",
        "backbone.trainable = False  # congelado no início\n",
        "\n",
        "# 2) Construção do grafo\n",
        "inp = Input(shape=(*IMG_SIZE, 3), name=\"input_image\")\n",
        "x   = backbone(inp)                            # [B, H', W', C=2048]\n",
        "\n",
        "# 3) Aplicar PDFBlock (multi‐escala)\n",
        "x = PDFBlock(\n",
        "    out_channels=512,\n",
        "    kernel_sizes=[1, 3, 5, 7],\n",
        "    dilations=[1, 2, 3, 4]\n",
        ")(x)  # agora [B, H', W', 512]\n",
        "\n",
        "# 4) Recalibração de canais via SEBlock\n",
        "x = SEBlock(channels=512, reduction=16)(x)      # [B, H', W', 512]\n",
        "\n",
        "# 5) Agregação e cabeça de classificação\n",
        "x = layers.GlobalAveragePooling2D(name=\"gap\")(x)  # [B, 512]\n",
        "x = layers.Dense(256, activation=\"relu\", name=\"fc1\")(x)\n",
        "x = layers.Dropout(0.5, name=\"dropout\")(x)\n",
        "out = layers.Dense(1, activation=\"sigmoid\", name=\"output\")(x)\n",
        "\n",
        "model_clf = Model(inputs=inp, outputs=out, name=\"MobileNetV2_PDF_SE_Clf\")\n",
        "\n",
        "#Penalizar mais os erros\n",
        "def focal_loss(alpha=0.55, gamma=2.):  \n",
        "    \"\"\"\n",
        "    alpha > 0.5 favorece mais o foco na classe 1 (Malignant).\n",
        "    \"\"\"\n",
        "    def focal_loss_fixed(y_true, y_pred):\n",
        "        y_true = tf.cast(y_true, tf.float32)\n",
        "        epsilon = tf.keras.backend.epsilon()\n",
        "        y_pred = tf.clip_by_value(y_pred, epsilon, 1. - epsilon)\n",
        "        \n",
        "        cross_entropy = -y_true * tf.math.log(y_pred) - (1 - y_true) * tf.math.log(1 - y_pred)\n",
        "        weight = alpha * tf.pow(1 - y_pred, gamma) * y_true + (1 - alpha) * tf.pow(y_pred, gamma) * (1 - y_true)\n",
        "        loss = weight * cross_entropy\n",
        "        return tf.reduce_mean(loss)\n",
        "    \n",
        "    return focal_loss_fixed\n",
        "\n",
        "# 6) Compilação do modelo\n",
        "model_clf.compile(\n",
        "    optimizer=tf.keras.optimizers.Adam(learning_rate=1e-4),\n",
        "    loss=focal_loss(alpha=0.55, gamma=2.),\n",
        "    metrics=[\"accuracy\", tf.keras.metrics.AUC(name=\"auc\")]\n",
        ")\n",
        "\n",
        "model_clf.summary()"
      ]
    },
    {
      "cell_type": "markdown",
      "metadata": {},
      "source": [
        "## 4. Treinamento\n",
        "\n",
        "Configuração de callbacks, loss e otimização.\n"
      ]
    },
    {
      "cell_type": "code",
      "execution_count": null,
      "metadata": {},
      "outputs": [],
      "source": [
        "callbacks_list = [\n",
        "    callbacks.EarlyStopping(\n",
        "        monitor=\"val_auc\",\n",
        "        patience=4,\n",
        "        mode=\"max\",\n",
        "        restore_best_weights=True,\n",
        "        verbose=1\n",
        "    ),\n",
        "]"
      ]
    },
    {
      "cell_type": "markdown",
      "metadata": {},
      "source": [
        "### 4.1 Ajuste de Pesos das Classes\n",
        "\n",
        "Cálculo de `class_weight` para balancear as classes no treino."
      ]
    },
    {
      "cell_type": "code",
      "execution_count": null,
      "metadata": {},
      "outputs": [
        {
          "name": "stdout",
          "output_type": "stream",
          "text": [
            "{0: np.float64(1.134), 1: np.float64(0.8943217665615142)}\n"
          ]
        }
      ],
      "source": [
        "from sklearn.utils.class_weight import compute_class_weight\n",
        "import numpy as np\n",
        "\n",
        "# Calcular pesos\n",
        "class_weights = compute_class_weight(\n",
        "    class_weight=\"balanced\",\n",
        "    classes=np.array([0, 1]),\n",
        "    y=y_train  # (usa os labels do treino)\n",
        ")\n",
        "\n",
        "class_weights_dict = {0: class_weights[0], 1: class_weights[1]}\n",
        "print(class_weights_dict)\n"
      ]
    },
    {
      "cell_type": "markdown",
      "metadata": {},
      "source": [
        "### 4.2 Treino Inicial\n",
        "\n",
        "Execução do `.fit()` com Focal Loss, Adam e pesos de classe.\n"
      ]
    },
    {
      "cell_type": "code",
      "execution_count": null,
      "metadata": {},
      "outputs": [
        {
          "name": "stdout",
          "output_type": "stream",
          "text": [
            "Epoch 1/30\n"
          ]
        },
        {
          "name": "stderr",
          "output_type": "stream",
          "text": [
            "WARNING: All log messages before absl::InitializeLog() is called are written to STDERR\n",
            "I0000 00:00:1745965980.715930  247426 service.cc:152] XLA service 0x7fcaa40039f0 initialized for platform CUDA (this does not guarantee that XLA will be used). Devices:\n",
            "I0000 00:00:1745965980.715961  247426 service.cc:160]   StreamExecutor device (0): NVIDIA GeForce RTX 2060, Compute Capability 7.5\n",
            "2025-04-29 19:33:01.172587: I tensorflow/compiler/mlir/tensorflow/utils/dump_mlir_util.cc:269] disabling MLIR crash reproducer, set env var `MLIR_CRASH_REPRODUCER_DIRECTORY` to enable.\n",
            "I0000 00:00:1745965982.911359  247426 cuda_dnn.cc:529] Loaded cuDNN version 90501\n",
            "2025-04-29 19:33:11.043673: W external/local_xla/xla/tsl/framework/bfc_allocator.cc:310] Allocator (GPU_0_bfc) ran out of memory trying to allocate 3.72GiB with freed_by_count=0. The caller indicates that this is not a failure, but this may mean that there could be performance gains if more memory were available.\n",
            "2025-04-29 19:33:11.661514: W external/local_xla/xla/tsl/framework/bfc_allocator.cc:310] Allocator (GPU_0_bfc) ran out of memory trying to allocate 4.53GiB with freed_by_count=0. The caller indicates that this is not a failure, but this may mean that there could be performance gains if more memory were available.\n",
            "I0000 00:00:1745965998.043135  247426 device_compiler.h:188] Compiled cluster using XLA!  This line is logged at most once for the lifetime of the process.\n"
          ]
        },
        {
          "name": "stdout",
          "output_type": "stream",
          "text": [
            "\u001b[1m35/36\u001b[0m \u001b[32m━━━━━━━━━━━━━━━━━━━\u001b[0m\u001b[37m━\u001b[0m \u001b[1m0s\u001b[0m 96ms/step - accuracy: 0.5233 - auc: 0.5256 - loss: 0.0901"
          ]
        },
        {
          "name": "stderr",
          "output_type": "stream",
          "text": [
            "2025-04-29 19:33:26.670108: W external/local_xla/xla/tsl/framework/bfc_allocator.cc:310] Allocator (GPU_0_bfc) ran out of memory trying to allocate 2.88GiB with freed_by_count=0. The caller indicates that this is not a failure, but this may mean that there could be performance gains if more memory were available.\n",
            "2025-04-29 19:33:31.028286: E external/local_xla/xla/service/slow_operation_alarm.cc:73] Trying algorithm eng28{k2=1,k3=0} for conv %cudnn-conv.177 = (f32[1280,512,5,5]{3,2,1,0}, u8[0]{0}) custom-call(f32[1280,63,7,7]{3,2,1,0} %bitcast.37214, f32[512,63,3,3]{3,2,1,0} %bitcast.39069), window={size=3x3}, dim_labels=bf01_oi01->bf01, custom_call_target=\"__cudnn$convForward\", metadata={op_type=\"Conv2DBackpropFilter\" op_name=\"gradient_tape/MobileNetV2_PDF_SE_Clf_1/pdf_block_1/conv2d_2_1/convolution/Conv2DBackpropFilter\" source_file=\"/home/gustavo/projetoFinal-DeepLearning/venv/lib/python3.9/site-packages/tensorflow/python/framework/ops.py\" source_line=1200}, backend_config={\"operation_queue_id\":\"0\",\"wait_on_operation_queues\":[],\"cudnn_conv_backend_config\":{\"conv_result_scale\":1,\"activation_mode\":\"kNone\",\"side_input_scale\":0,\"leakyrelu_alpha\":0},\"force_earliest_schedule\":false} is taking a while...\n",
            "2025-04-29 19:33:31.050234: E external/local_xla/xla/service/slow_operation_alarm.cc:140] The operation took 2.618629154s\n",
            "Trying algorithm eng28{k2=1,k3=0} for conv %cudnn-conv.177 = (f32[1280,512,5,5]{3,2,1,0}, u8[0]{0}) custom-call(f32[1280,63,7,7]{3,2,1,0} %bitcast.37214, f32[512,63,3,3]{3,2,1,0} %bitcast.39069), window={size=3x3}, dim_labels=bf01_oi01->bf01, custom_call_target=\"__cudnn$convForward\", metadata={op_type=\"Conv2DBackpropFilter\" op_name=\"gradient_tape/MobileNetV2_PDF_SE_Clf_1/pdf_block_1/conv2d_2_1/convolution/Conv2DBackpropFilter\" source_file=\"/home/gustavo/projetoFinal-DeepLearning/venv/lib/python3.9/site-packages/tensorflow/python/framework/ops.py\" source_line=1200}, backend_config={\"operation_queue_id\":\"0\",\"wait_on_operation_queues\":[],\"cudnn_conv_backend_config\":{\"conv_result_scale\":1,\"activation_mode\":\"kNone\",\"side_input_scale\":0,\"leakyrelu_alpha\":0},\"force_earliest_schedule\":false} is taking a while...\n",
            "2025-04-29 19:33:31.107876: W external/local_xla/xla/tsl/framework/bfc_allocator.cc:310] Allocator (GPU_0_bfc) ran out of memory trying to allocate 3.13GiB with freed_by_count=0. The caller indicates that this is not a failure, but this may mean that there could be performance gains if more memory were available.\n",
            "2025-04-29 19:33:31.547349: W external/local_xla/xla/tsl/framework/bfc_allocator.cc:310] Allocator (GPU_0_bfc) ran out of memory trying to allocate 3.49GiB with freed_by_count=0. The caller indicates that this is not a failure, but this may mean that there could be performance gains if more memory were available.\n"
          ]
        },
        {
          "name": "stdout",
          "output_type": "stream",
          "text": [
            "\u001b[1m36/36\u001b[0m \u001b[32m━━━━━━━━━━━━━━━━━━━━\u001b[0m\u001b[37m\u001b[0m \u001b[1m0s\u001b[0m 551ms/step - accuracy: 0.5240 - auc: 0.5267 - loss: 0.0901"
          ]
        },
        {
          "name": "stderr",
          "output_type": "stream",
          "text": [
            "2025-04-29 19:33:46.100930: W external/local_xla/xla/tsl/framework/bfc_allocator.cc:310] Allocator (GPU_0_bfc) ran out of memory trying to allocate 2.96GiB with freed_by_count=0. The caller indicates that this is not a failure, but this may mean that there could be performance gains if more memory were available.\n"
          ]
        },
        {
          "name": "stdout",
          "output_type": "stream",
          "text": [
            "\u001b[1m36/36\u001b[0m \u001b[32m━━━━━━━━━━━━━━━━━━━━\u001b[0m\u001b[37m\u001b[0m \u001b[1m59s\u001b[0m 922ms/step - accuracy: 0.5247 - auc: 0.5276 - loss: 0.0901 - val_accuracy: 0.5902 - val_auc: 0.6469 - val_loss: 0.0835\n",
            "Epoch 2/30\n",
            "\u001b[1m36/36\u001b[0m \u001b[32m━━━━━━━━━━━━━━━━━━━━\u001b[0m\u001b[37m\u001b[0m \u001b[1m4s\u001b[0m 114ms/step - accuracy: 0.6347 - auc: 0.6584 - loss: 0.0796 - val_accuracy: 0.5984 - val_auc: 0.6940 - val_loss: 0.0793\n",
            "Epoch 3/30\n",
            "\u001b[1m36/36\u001b[0m \u001b[32m━━━━━━━━━━━━━━━━━━━━\u001b[0m\u001b[37m\u001b[0m \u001b[1m4s\u001b[0m 105ms/step - accuracy: 0.6623 - auc: 0.7483 - loss: 0.0744 - val_accuracy: 0.5820 - val_auc: 0.6367 - val_loss: 0.0817\n",
            "Epoch 4/30\n",
            "\u001b[1m36/36\u001b[0m \u001b[32m━━━━━━━━━━━━━━━━━━━━\u001b[0m\u001b[37m\u001b[0m \u001b[1m4s\u001b[0m 119ms/step - accuracy: 0.6907 - auc: 0.7681 - loss: 0.0725 - val_accuracy: 0.6721 - val_auc: 0.7206 - val_loss: 0.0761\n",
            "Epoch 5/30\n",
            "\u001b[1m36/36\u001b[0m \u001b[32m━━━━━━━━━━━━━━━━━━━━\u001b[0m\u001b[37m\u001b[0m \u001b[1m7s\u001b[0m 124ms/step - accuracy: 0.7261 - auc: 0.7617 - loss: 0.0728 - val_accuracy: 0.6639 - val_auc: 0.7530 - val_loss: 0.0726\n",
            "Epoch 6/30\n",
            "\u001b[1m36/36\u001b[0m \u001b[32m━━━━━━━━━━━━━━━━━━━━\u001b[0m\u001b[37m\u001b[0m \u001b[1m4s\u001b[0m 109ms/step - accuracy: 0.7796 - auc: 0.8489 - loss: 0.0634 - val_accuracy: 0.5082 - val_auc: 0.6404 - val_loss: 0.0983\n",
            "Epoch 7/30\n",
            "\u001b[1m36/36\u001b[0m \u001b[32m━━━━━━━━━━━━━━━━━━━━\u001b[0m\u001b[37m\u001b[0m \u001b[1m4s\u001b[0m 111ms/step - accuracy: 0.6869 - auc: 0.7768 - loss: 0.0735 - val_accuracy: 0.6311 - val_auc: 0.7034 - val_loss: 0.0784\n",
            "Epoch 8/30\n",
            "\u001b[1m36/36\u001b[0m \u001b[32m━━━━━━━━━━━━━━━━━━━━\u001b[0m\u001b[37m\u001b[0m \u001b[1m4s\u001b[0m 106ms/step - accuracy: 0.7797 - auc: 0.8534 - loss: 0.0604 - val_accuracy: 0.6639 - val_auc: 0.7053 - val_loss: 0.0810\n",
            "Epoch 9/30\n",
            "\u001b[1m36/36\u001b[0m \u001b[32m━━━━━━━━━━━━━━━━━━━━\u001b[0m\u001b[37m\u001b[0m \u001b[1m4s\u001b[0m 105ms/step - accuracy: 0.7871 - auc: 0.8705 - loss: 0.0587 - val_accuracy: 0.6066 - val_auc: 0.6962 - val_loss: 0.0867\n",
            "Epoch 9: early stopping\n",
            "Restoring model weights from the end of the best epoch: 5.\n"
          ]
        }
      ],
      "source": [
        "history = model_clf.fit(\n",
        "    train_ds,\n",
        "    validation_data=val_ds,\n",
        "    epochs=30,\n",
        "    callbacks=callbacks_list,\n",
        "    class_weight=class_weights_dict\n",
        ")"
      ]
    },
    {
      "cell_type": "markdown",
      "metadata": {},
      "source": [
        "## 5. Resultados Iniciais\n",
        "\n",
        "Avaliação do modelo treinado originalmente.\n"
      ]
    },
    {
      "cell_type": "code",
      "execution_count": null,
      "metadata": {},
      "outputs": [
        {
          "name": "stdout",
          "output_type": "stream",
          "text": [
            "\u001b[1m8/8\u001b[0m \u001b[32m━━━━━━━━━━━━━━━━━━━━\u001b[0m\u001b[37m\u001b[0m \u001b[1m0s\u001b[0m 52ms/step - accuracy: 0.5938 - auc: 0.6312 - loss: 0.0839\n",
            "Test Loss:     0.0835\n",
            "Test Accuracy: 0.5902\n",
            "Test AUC:      0.6442\n"
          ]
        }
      ],
      "source": [
        "test_loss, test_acc, test_auc = model_clf.evaluate(test_ds)\n",
        "print(f\"Test Loss:     {test_loss:.4f}\")\n",
        "print(f\"Test Accuracy: {test_acc:.4f}\")\n",
        "print(f\"Test AUC:      {test_auc:.4f}\")"
      ]
    },
    {
      "cell_type": "markdown",
      "metadata": {},
      "source": [
        "### 5.1 Curvas de Loss e AUC durante o Treino\n"
      ]
    },
    {
      "cell_type": "code",
      "execution_count": null,
      "metadata": {},
      "outputs": [
        {
          "data": {
            "image/png": "[encoded data removed]",
            "text/plain": [
              "<Figure size 600x400 with 1 Axes>"
            ]
          },
          "metadata": {},
          "output_type": "display_data"
        },
        {
          "data": {
            "image/png": "[encoded data removed]",
            "text/plain": [
              "<Figure size 600x400 with 1 Axes>"
            ]
          },
          "metadata": {},
          "output_type": "display_data"
        }
      ],
      "source": [
        "# 1) Loss\n",
        "plt.figure(figsize=(6,4))\n",
        "plt.plot(history.history[\"loss\"],   label=\"train_loss\")\n",
        "plt.plot(history.history[\"val_loss\"], label=\"val_loss\")\n",
        "plt.title(\"Loss durante o Treino\")\n",
        "plt.xlabel(\"Época\")\n",
        "plt.ylabel(\"Loss\")\n",
        "plt.legend()\n",
        "plt.show()\n",
        "\n",
        "# 2) AUC\n",
        "plt.figure(figsize=(6,4))\n",
        "plt.plot(history.history[\"auc\"],     label=\"train_auc\")\n",
        "plt.plot(history.history[\"val_auc\"], label=\"val_auc\")\n",
        "plt.title(\"AUC durante o Treino\")\n",
        "plt.xlabel(\"Época\")\n",
        "plt.ylabel(\"AUC\")\n",
        "plt.legend()\n",
        "plt.show()"
      ]
    },
    {
      "cell_type": "markdown",
      "metadata": {},
      "source": [
        "### 5.2 Avaliação no Conjunto de Teste\n",
        "\n",
        "- Classification Report  \n",
        "- Matriz de Confusão\n"
      ]
    },
    {
      "cell_type": "code",
      "execution_count": null,
      "metadata": {},
      "outputs": [
        {
          "name": "stdout",
          "output_type": "stream",
          "text": [
            "\u001b[1m8/8\u001b[0m \u001b[32m━━━━━━━━━━━━━━━━━━━━\u001b[0m\u001b[37m\u001b[0m \u001b[1m9s\u001b[0m 648ms/step\n",
            "              precision    recall  f1-score   support\n",
            "\n",
            "      Benign       0.55      0.50      0.52        54\n",
            "   Malignant       0.63      0.68      0.65        68\n",
            "\n",
            "    accuracy                           0.60       122\n",
            "   macro avg       0.59      0.59      0.59       122\n",
            "weighted avg       0.60      0.60      0.60       122\n",
            "\n"
          ]
        },
        {
          "name": "stderr",
          "output_type": "stream",
          "text": [
            "2025-04-29 19:34:36.547066: I tensorflow/core/framework/local_rendezvous.cc:407] Local rendezvous is aborting with status: OUT_OF_RANGE: End of sequence\n"
          ]
        },
        {
          "data": {
            "image/png": "[encoded data removed]",
            "text/plain": [
              "<Figure size 600x500 with 2 Axes>"
            ]
          },
          "metadata": {},
          "output_type": "display_data"
        }
      ],
      "source": [
        "# Previsões\n",
        "y_pred_prob = model_clf.predict(test_ds)\n",
        "y_pred = (y_pred_prob > 0.5).astype(int).reshape(-1)\n",
        "y_true = np.concatenate([labels.numpy() for imgs, labels in test_ds], axis=0)\n",
        "\n",
        "# Classification Report\n",
        "print(classification_report(y_true, y_pred, target_names=[\"Benign\", \"Malignant\"]))\n",
        "\n",
        "# Confusion Matrix\n",
        "cm = confusion_matrix(y_true, y_pred)\n",
        "plt.figure(figsize=(6,5))\n",
        "sns.heatmap(cm, annot=True, fmt=\"d\", cmap=\"Blues\", xticklabels=[\"Benign\", \"Malignant\"], yticklabels=[\"Benign\", \"Malignant\"])\n",
        "plt.xlabel(\"Predicted\")\n",
        "plt.ylabel(\"True\")\n",
        "plt.title(\"Confusion Matrix\")\n",
        "plt.show()\n"
      ]
    },
    {
      "cell_type": "markdown",
      "metadata": {},
      "source": [
        "## 6. Ajuste Fino (Fine-tuning)\n",
        "\n",
        "Descongelamento dos últimos 30% das camadas do backbone e re-treinamento.\n"
      ]
    },
    {
      "cell_type": "code",
      "execution_count": null,
      "metadata": {},
      "outputs": [],
      "source": [
        "# Descongelar EfficientNetB0 a partir de 70% das camadas\n",
        "fine_tune_at = int(len(backbone.layers) * 0.7)\n",
        "\n",
        "for layer in backbone.layers[fine_tune_at:]:\n",
        "    layer.trainable = True\n",
        "\n",
        "# Recompilar o modelo com learning rate menor\n",
        "model_clf.compile(\n",
        "    optimizer=tf.keras.optimizers.Adam(learning_rate=1e-5),\n",
        "    loss=\"binary_crossentropy\",\n",
        "    metrics=[\"accuracy\", tf.keras.metrics.AUC(name=\"auc\")]\n",
        ")\n"
      ]
    },
    {
      "cell_type": "markdown",
      "metadata": {},
      "source": [
        "### 6.1 Treino após Fine-tuning\n"
      ]
    },
    {
      "cell_type": "code",
      "execution_count": null,
      "metadata": {},
      "outputs": [
        {
          "name": "stdout",
          "output_type": "stream",
          "text": [
            "Epoch 1/5\n"
          ]
        },
        {
          "name": "stderr",
          "output_type": "stream",
          "text": [
            "2025-04-29 19:34:55.817116: W external/local_xla/xla/tsl/framework/bfc_allocator.cc:310] Allocator (GPU_0_bfc) ran out of memory trying to allocate 3.14GiB with freed_by_count=0. The caller indicates that this is not a failure, but this may mean that there could be performance gains if more memory were available.\n",
            "2025-04-29 19:34:55.817186: W external/local_xla/xla/tsl/framework/bfc_allocator.cc:310] Allocator (GPU_0_bfc) ran out of memory trying to allocate 3.14GiB with freed_by_count=0. The caller indicates that this is not a failure, but this may mean that there could be performance gains if more memory were available.\n",
            "2025-04-29 19:34:56.923807: W external/local_xla/xla/tsl/framework/bfc_allocator.cc:310] Allocator (GPU_0_bfc) ran out of memory trying to allocate 3.72GiB with freed_by_count=0. The caller indicates that this is not a failure, but this may mean that there could be performance gains if more memory were available.\n",
            "2025-04-29 19:34:57.533447: W external/local_xla/xla/tsl/framework/bfc_allocator.cc:310] Allocator (GPU_0_bfc) ran out of memory trying to allocate 4.53GiB with freed_by_count=0. The caller indicates that this is not a failure, but this may mean that there could be performance gains if more memory were available.\n"
          ]
        },
        {
          "name": "stdout",
          "output_type": "stream",
          "text": [
            "\u001b[1m36/36\u001b[0m \u001b[32m━━━━━━━━━━━━━━━━━━━━\u001b[0m\u001b[37m\u001b[0m \u001b[1m68s\u001b[0m 1s/step - accuracy: 0.6489 - auc: 0.7012 - loss: 0.6339 - val_accuracy: 0.6148 - val_auc: 0.7367 - val_loss: 0.6108\n",
            "Epoch 2/5\n",
            "\u001b[1m36/36\u001b[0m \u001b[32m━━━━━━━━━━━━━━━━━━━━\u001b[0m\u001b[37m\u001b[0m \u001b[1m8s\u001b[0m 217ms/step - accuracy: 0.6741 - auc: 0.7590 - loss: 0.6024 - val_accuracy: 0.6148 - val_auc: 0.7166 - val_loss: 0.6114\n",
            "Epoch 3/5\n",
            "\u001b[1m36/36\u001b[0m \u001b[32m━━━━━━━━━━━━━━━━━━━━\u001b[0m\u001b[37m\u001b[0m \u001b[1m5s\u001b[0m 140ms/step - accuracy: 0.7009 - auc: 0.7629 - loss: 0.5920 - val_accuracy: 0.6311 - val_auc: 0.6923 - val_loss: 0.6200\n",
            "Epoch 4/5\n",
            "\u001b[1m36/36\u001b[0m \u001b[32m━━━━━━━━━━━━━━━━━━━━\u001b[0m\u001b[37m\u001b[0m \u001b[1m5s\u001b[0m 140ms/step - accuracy: 0.7199 - auc: 0.8058 - loss: 0.5613 - val_accuracy: 0.5820 - val_auc: 0.6859 - val_loss: 0.6208\n",
            "Epoch 5/5\n",
            "\u001b[1m36/36\u001b[0m \u001b[32m━━━━━━━━━━━━━━━━━━━━\u001b[0m\u001b[37m\u001b[0m \u001b[1m5s\u001b[0m 142ms/step - accuracy: 0.6902 - auc: 0.7840 - loss: 0.5667 - val_accuracy: 0.6148 - val_auc: 0.6857 - val_loss: 0.6246\n",
            "Epoch 5: early stopping\n",
            "Restoring model weights from the end of the best epoch: 1.\n"
          ]
        }
      ],
      "source": [
        "# Treinar mais algumas épocas após liberar as camadas\n",
        "history_finetune = model_clf.fit(\n",
        "    train_ds,\n",
        "    validation_data=val_ds,\n",
        "    epochs=5,\n",
        "    callbacks=callbacks_list,\n",
        "    class_weight=class_weights_dict  # Mantém pesos!\n",
        ")\n"
      ]
    },
    {
      "cell_type": "markdown",
      "metadata": {},
      "source": [
        "### 6.2 Avaliação no Teste após Fine-tuning\n"
      ]
    },
    {
      "cell_type": "code",
      "execution_count": null,
      "metadata": {},
      "outputs": [
        {
          "name": "stdout",
          "output_type": "stream",
          "text": [
            "\u001b[1m8/8\u001b[0m \u001b[32m━━━━━━━━━━━━━━━━━━━━\u001b[0m\u001b[37m\u001b[0m \u001b[1m0s\u001b[0m 54ms/step - accuracy: 0.5840 - auc: 0.6049 - loss: 0.6497\n",
            "Test Loss: 0.6470\n",
            "Test Accuracy: 0.5820\n",
            "Test AUC: 0.6382\n"
          ]
        }
      ],
      "source": [
        "# Avaliar no conjunto de teste\n",
        "loss, accuracy, auc = model_clf.evaluate(test_ds)\n",
        "print(f\"Test Loss: {loss:.4f}\")\n",
        "print(f\"Test Accuracy: {accuracy:.4f}\")\n",
        "print(f\"Test AUC: {auc:.4f}\")\n"
      ]
    },
    {
      "cell_type": "markdown",
      "metadata": {},
      "source": [
        "### 6.3 Matriz de Confusão e Classification Report\n"
      ]
    },
    {
      "cell_type": "code",
      "execution_count": null,
      "metadata": {},
      "outputs": [
        {
          "name": "stdout",
          "output_type": "stream",
          "text": [
            "\u001b[1m8/8\u001b[0m \u001b[32m━━━━━━━━━━━━━━━━━━━━\u001b[0m\u001b[37m\u001b[0m \u001b[1m9s\u001b[0m 713ms/step\n",
            "              precision    recall  f1-score   support\n",
            "\n",
            "      Benign       0.54      0.39      0.45        54\n",
            "   Malignant       0.60      0.74      0.66        68\n",
            "\n",
            "    accuracy                           0.58       122\n",
            "   macro avg       0.57      0.56      0.56       122\n",
            "weighted avg       0.57      0.58      0.57       122\n",
            "\n"
          ]
        },
        {
          "data": {
            "image/png": "[encoded data removed]",
            "text/plain": [
              "<Figure size 600x500 with 2 Axes>"
            ]
          },
          "metadata": {},
          "output_type": "display_data"
        }
      ],
      "source": [
        "# Previsões\n",
        "y_pred_prob = model_clf.predict(test_ds)\n",
        "y_pred = (y_pred_prob > 0.5).astype(int).reshape(-1)\n",
        "y_true = np.concatenate([labels.numpy() for imgs, labels in test_ds], axis=0)\n",
        "\n",
        "# Classification Report\n",
        "from sklearn.metrics import classification_report\n",
        "print(classification_report(y_true, y_pred, target_names=[\"Benign\", \"Malignant\"]))\n",
        "\n",
        "# Confusion Matrix\n",
        "from sklearn.metrics import confusion_matrix\n",
        "import seaborn as sns\n",
        "import matplotlib.pyplot as plt\n",
        "\n",
        "cm = confusion_matrix(y_true, y_pred)\n",
        "plt.figure(figsize=(6,5))\n",
        "sns.heatmap(cm, annot=True, fmt=\"d\", cmap=\"Blues\", xticklabels=[\"Benign\", \"Malignant\"], yticklabels=[\"Benign\", \"Malignant\"])\n",
        "plt.xlabel(\"Predicted\")\n",
        "plt.ylabel(\"True\")\n",
        "plt.title(\"Confusion Matrix\")\n",
        "plt.show()\n"
      ]
    },
    {
      "cell_type": "markdown",
      "metadata": {},
      "source": [
        "## 7. Análise Crítica\n",
        "\n",
        "O modelo apresenta recall mais alto para malignos, o que é desejável em diagnóstico precoce, mesmo que a acurácia geral fique em ~60%.\n"
      ]
    },
    {
      "cell_type": "markdown",
      "metadata": {},
      "source": [
        "## 8. Conclusões e Recomendações\n",
        "\n",
        "- Máscaras melhoram o pré-processamento.  \n",
        "- EfficientNetB0 + PDFBlock/SEBlock extraiu bons recursos.  \n",
        "- Fine-tuning aumentou recall de malignos (ponto crítico).  \n",
        "\n",
        "**Recomendações**:  \n",
        "1. Experimentar ensembling ou outros backbones.  \n",
        "2. Tuning de hiperparâmetros.  \n",
        "3. Aumentar o dataset e diversificar augmentations."
      ]
    }
  ],
  "metadata": {
    "colab": {
      "name": "10_ProjetoFinalParaEntregar.ipynb",
      "provenance": []
    },
    "kernelspec": {
      "display_name": "venv",
      "language": "python",
      "name": "python3"
    },
    "language_info": {
      "codemirror_mode": {
        "name": "ipython",
        "version": 3
      },
      "file_extension": ".py",
      "mimetype": "text/x-python",
      "name": "python",
      "nbconvert_exporter": "python",
      "pygments_lexer": "ipython3",
      "version": "3.9.22"
    }
  },
  "nbformat": 4,
  "nbformat_minor": 0
}
