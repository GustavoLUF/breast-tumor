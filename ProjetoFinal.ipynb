{
  "cells": [
    {
      "attachments": {},
      "cell_type": "markdown",
      "metadata": {
        "id": "IbOe-bOxS_Xl"
      },
      "source": [
        "### Pós-graduação em Ciência de Dados e Machine Learning\n",
        "\n",
        "#### Disciplina: **Introdução a Redes Neurais**\n",
        "\n",
        "#### Projeto Final para disciplina Introdução a Redes Neurais\n",
        "\n",
        "<BR>\n",
        "    \n",
        "### **Integrantes**:\n",
        "#### Nome:  Gustavo Gomes Balbino\n",
        "#### RA: 52400106\n",
        "\n",
        "#### Nome:  Gustavo Lopes Urio Fonseca\n",
        "#### RA: 52400113\n",
        "---"
      ]
    },
    {
      "cell_type": "markdown",
      "metadata": {},
      "source": [
        "# Classificação de Tumores de Mama em Imagens de Ultrassom\n",
        "\n",
        "**Objetivos**  \n",
        "1. **Pré-processamento**: usar máscaras para recortar região de tumor.  \n",
        "2. **Modelagem**: ResNet50 pré-treinada + blocos customizados (PDFBlock + SEBlock).  \n",
        "3. **Treino**: otimizar usando loss binária, métricas AUC e acurácia.  \n",
        "4. **Avaliação**: matriz de confusão, AUC e relatório de resultados.\n",
        "\n",
        "**Métricas de Sucesso**  \n",
        "- Acurácia ≥ X%  \n",
        "- AUC ≥ Y%  \n",
        "- Boa separação das classes (confusion matrix bem balanceada)"
      ]
    },
    {
      "cell_type": "markdown",
      "metadata": {},
      "source": [
        "---\n",
        "### **Passo 1:**\n",
        "#### Vamos começar fazendo o download e importando as bibliotecas necessárias:"
      ]
    },
    {
      "cell_type": "code",
      "execution_count": 1,
      "metadata": {},
      "outputs": [
        {
          "name": "stderr",
          "output_type": "stream",
          "text": [
            "2025-04-28 23:00:58.763548: I tensorflow/core/util/port.cc:113] oneDNN custom operations are on. You may see slightly different numerical results due to floating-point round-off errors from different computation orders. To turn them off, set the environment variable `TF_ENABLE_ONEDNN_OPTS=0`.\n",
            "2025-04-28 23:00:58.784795: E external/local_xla/xla/stream_executor/cuda/cuda_dnn.cc:9261] Unable to register cuDNN factory: Attempting to register factory for plugin cuDNN when one has already been registered\n",
            "2025-04-28 23:00:58.784813: E external/local_xla/xla/stream_executor/cuda/cuda_fft.cc:607] Unable to register cuFFT factory: Attempting to register factory for plugin cuFFT when one has already been registered\n",
            "2025-04-28 23:00:58.785295: E external/local_xla/xla/stream_executor/cuda/cuda_blas.cc:1515] Unable to register cuBLAS factory: Attempting to register factory for plugin cuBLAS when one has already been registered\n",
            "2025-04-28 23:00:58.789098: I tensorflow/core/platform/cpu_feature_guard.cc:182] This TensorFlow binary is optimized to use available CPU instructions in performance-critical operations.\n",
            "To enable the following instructions: AVX2 AVX_VNNI FMA, in other operations, rebuild TensorFlow with the appropriate compiler flags.\n",
            "2025-04-28 23:00:59.214837: W tensorflow/compiler/tf2tensorrt/utils/py_utils.cc:38] TF-TRT Warning: Could not find TensorRT\n"
          ]
        },
        {
          "data": {
            "text/plain": [
              "0"
            ]
          },
          "execution_count": 1,
          "metadata": {},
          "output_type": "execute_result"
        }
      ],
      "source": [
        "import gc\n",
        "import tensorflow as tf\n",
        "\n",
        "# Limpar sessão TensorFlow\n",
        "tf.keras.backend.clear_session()\n",
        "\n",
        "# Coletar lixo do Python\n",
        "gc.collect()\n"
      ]
    },
    {
      "cell_type": "code",
      "execution_count": 2,
      "metadata": {},
      "outputs": [
        {
          "name": "stdout",
          "output_type": "stream",
          "text": [
            "Dispositivos visíveis: [PhysicalDevice(name='/physical_device:GPU:0', device_type='GPU')]\n",
            "Versão do TensorFlow: 2.15.0\n"
          ]
        },
        {
          "name": "stderr",
          "output_type": "stream",
          "text": [
            "2025-04-28 23:01:00.316739: I external/local_xla/xla/stream_executor/cuda/cuda_executor.cc:887] could not open file to read NUMA node: /sys/bus/pci/devices/0000:01:00.0/numa_node\n",
            "Your kernel may have been built without NUMA support.\n",
            "2025-04-28 23:01:00.340232: I external/local_xla/xla/stream_executor/cuda/cuda_executor.cc:887] could not open file to read NUMA node: /sys/bus/pci/devices/0000:01:00.0/numa_node\n",
            "Your kernel may have been built without NUMA support.\n",
            "2025-04-28 23:01:00.340265: I external/local_xla/xla/stream_executor/cuda/cuda_executor.cc:887] could not open file to read NUMA node: /sys/bus/pci/devices/0000:01:00.0/numa_node\n",
            "Your kernel may have been built without NUMA support.\n",
            "2025-04-28 23:01:00.340269: W tensorflow/core/common_runtime/gpu/gpu_device.cc:2348] TensorFlow was not built with CUDA kernel binaries compatible with compute capability 12.0. CUDA kernels will be jit-compiled from PTX, which could take 30 minutes or longer.\n"
          ]
        }
      ],
      "source": [
        "import os\n",
        "import glob\n",
        "\n",
        "# Removido: os.environ[\"CUDA_VISIBLE_DEVICES\"] = \"\"\n",
        "\n",
        "import numpy as np\n",
        "import pandas as pd\n",
        "import matplotlib.pyplot as plt\n",
        "\n",
        "from sklearn.model_selection import train_test_split\n",
        "from sklearn.utils import shuffle as skshuffle\n",
        "\n",
        "import tensorflow as tf\n",
        "from tensorflow import keras\n",
        "from tensorflow.keras import layers, callbacks, Input, Model\n",
        "from tensorflow.keras.applications import ResNet50, EfficientNetB0\n",
        "from tensorflow.keras.preprocessing.image import ImageDataGenerator\n",
        "\n",
        "print(\"Dispositivos visíveis:\", tf.config.list_physical_devices('GPU'))\n",
        "print(\"Versão do TensorFlow:\", tf.__version__)\n"
      ]
    },
    {
      "cell_type": "markdown",
      "metadata": {},
      "source": [
        "---\n",
        "### **Passo 2:**\n",
        "#### Uma breve visualização do 'dataset.csv'"
      ]
    },
    {
      "cell_type": "code",
      "execution_count": 3,
      "metadata": {},
      "outputs": [
        {
          "data": {
            "text/html": [
              "<div>\n",
              "<style scoped>\n",
              "    .dataframe tbody tr th:only-of-type {\n",
              "        vertical-align: middle;\n",
              "    }\n",
              "\n",
              "    .dataframe tbody tr th {\n",
              "        vertical-align: top;\n",
              "    }\n",
              "\n",
              "    .dataframe thead th {\n",
              "        text-align: right;\n",
              "    }\n",
              "</style>\n",
              "<table border=\"1\" class=\"dataframe\">\n",
              "  <thead>\n",
              "    <tr style=\"text-align: right;\">\n",
              "      <th></th>\n",
              "      <th>Level</th>\n",
              "      <th>Name</th>\n",
              "      <th>Type</th>\n",
              "      <th>Description</th>\n",
              "      <th>File Count</th>\n",
              "    </tr>\n",
              "  </thead>\n",
              "  <tbody>\n",
              "    <tr>\n",
              "      <th>0</th>\n",
              "      <td>0</td>\n",
              "      <td>.</td>\n",
              "      <td>directory</td>\n",
              "      <td>Root directory</td>\n",
              "      <td>2</td>\n",
              "    </tr>\n",
              "    <tr>\n",
              "      <th>1</th>\n",
              "      <td>1</td>\n",
              "      <td>images</td>\n",
              "      <td>directory</td>\n",
              "      <td>Contains all ultrasound images</td>\n",
              "      <td>811</td>\n",
              "    </tr>\n",
              "    <tr>\n",
              "      <th>2</th>\n",
              "      <td>1</td>\n",
              "      <td>masks</td>\n",
              "      <td>directory</td>\n",
              "      <td>Contains corresponding segmentation masks</td>\n",
              "      <td>811</td>\n",
              "    </tr>\n",
              "    <tr>\n",
              "      <th>3</th>\n",
              "      <td>1</td>\n",
              "      <td>Benign</td>\n",
              "      <td>directory</td>\n",
              "      <td>Contains benign tumor data</td>\n",
              "      <td>2</td>\n",
              "    </tr>\n",
              "    <tr>\n",
              "      <th>4</th>\n",
              "      <td>2</td>\n",
              "      <td>Benign/images</td>\n",
              "      <td>directory</td>\n",
              "      <td>Ultrasound images of benign tumors</td>\n",
              "      <td>358</td>\n",
              "    </tr>\n",
              "    <tr>\n",
              "      <th>5</th>\n",
              "      <td>2</td>\n",
              "      <td>Benign/masks</td>\n",
              "      <td>directory</td>\n",
              "      <td>Segmentation masks for benign tumors</td>\n",
              "      <td>358</td>\n",
              "    </tr>\n",
              "    <tr>\n",
              "      <th>6</th>\n",
              "      <td>1</td>\n",
              "      <td>Malignant</td>\n",
              "      <td>directory</td>\n",
              "      <td>Contains malignant tumor data</td>\n",
              "      <td>2</td>\n",
              "    </tr>\n",
              "    <tr>\n",
              "      <th>7</th>\n",
              "      <td>2</td>\n",
              "      <td>Malignant/images</td>\n",
              "      <td>directory</td>\n",
              "      <td>Ultrasound images of malignant tumors</td>\n",
              "      <td>453</td>\n",
              "    </tr>\n",
              "    <tr>\n",
              "      <th>8</th>\n",
              "      <td>2</td>\n",
              "      <td>Malignant/masks</td>\n",
              "      <td>directory</td>\n",
              "      <td>Segmentation masks for malignant tumors</td>\n",
              "      <td>453</td>\n",
              "    </tr>\n",
              "  </tbody>\n",
              "</table>\n",
              "</div>"
            ],
            "text/plain": [
              "   Level              Name       Type  \\\n",
              "0      0                 .  directory   \n",
              "1      1            images  directory   \n",
              "2      1             masks  directory   \n",
              "3      1            Benign  directory   \n",
              "4      2     Benign/images  directory   \n",
              "5      2      Benign/masks  directory   \n",
              "6      1         Malignant  directory   \n",
              "7      2  Malignant/images  directory   \n",
              "8      2   Malignant/masks  directory   \n",
              "\n",
              "                                 Description  File Count  \n",
              "0                             Root directory           2  \n",
              "1             Contains all ultrasound images         811  \n",
              "2  Contains corresponding segmentation masks         811  \n",
              "3                 Contains benign tumor data           2  \n",
              "4         Ultrasound images of benign tumors         358  \n",
              "5       Segmentation masks for benign tumors         358  \n",
              "6              Contains malignant tumor data           2  \n",
              "7      Ultrasound images of malignant tumors         453  \n",
              "8    Segmentation masks for malignant tumors         453  "
            ]
          },
          "execution_count": 3,
          "metadata": {},
          "output_type": "execute_result"
        }
      ],
      "source": [
        "df = pd.read_csv('dataset.csv', sep=',')\n",
        "df.head(10)"
      ]
    },
    {
      "cell_type": "markdown",
      "metadata": {},
      "source": [
        "##### Abaixo vamos listar imagens, máscaras e labels"
      ]
    },
    {
      "cell_type": "code",
      "execution_count": 4,
      "metadata": {},
      "outputs": [
        {
          "name": "stdout",
          "output_type": "stream",
          "text": [
            "Total: 811 imagens, 811 máscaras\n",
            "Distribuição: {1: 453, 0: 358}\n"
          ]
        }
      ],
      "source": [
        "BASE_DIR = \"BUS_UC/BUS_UC/BUS_UC\"\n",
        "IMG_PATTERN = \"*.png\"\n",
        "\n",
        "# diretórios\n",
        "dirs = {\n",
        "    0: (os.path.join(BASE_DIR, \"Benign\",    \"images\"),\n",
        "        os.path.join(BASE_DIR, \"Benign\",    \"masks\")),\n",
        "    1: (os.path.join(BASE_DIR, \"Malignant\", \"images\"),\n",
        "        os.path.join(BASE_DIR, \"Malignant\", \"masks\")),\n",
        "}\n",
        "\n",
        "all_images, all_masks, all_labels = [], [], []\n",
        "for label, (img_dir, mask_dir) in dirs.items():\n",
        "    imgs  = sorted(glob.glob(os.path.join(img_dir,  IMG_PATTERN)))\n",
        "    masks = sorted(glob.glob(os.path.join(mask_dir, IMG_PATTERN)))\n",
        "    all_images += imgs\n",
        "    all_masks  += masks\n",
        "    all_labels += [label] * len(imgs)\n",
        "\n",
        "print(f\"Total: {len(all_images)} imagens, {len(all_masks)} máscaras\")\n",
        "print(\"Distribuição:\", pd.Series(all_labels).value_counts().to_dict())"
      ]
    },
    {
      "cell_type": "markdown",
      "metadata": {},
      "source": [
        "---\n",
        "### **Passo 3:**\n",
        "#### Vamos agora embaralhar essas listas e separar para treino, validação e teste."
      ]
    },
    {
      "cell_type": "code",
      "execution_count": 5,
      "metadata": {},
      "outputs": [
        {
          "name": "stdout",
          "output_type": "stream",
          "text": [
            "Train: 567 | Val: 122 | Test: 122\n"
          ]
        }
      ],
      "source": [
        "imgs, masks, labs = skshuffle(all_images, all_masks, all_labels, random_state=42)\n",
        "X_train, X_rem, M_train, M_rem, y_train, y_rem = train_test_split(\n",
        "    imgs, masks, labs,\n",
        "    test_size=0.30, stratify=labs, random_state=42\n",
        ")\n",
        "X_val, X_test, M_val, M_test, y_val, y_test = train_test_split(\n",
        "    X_rem, M_rem, y_rem,\n",
        "    test_size=0.50, stratify=y_rem, random_state=42\n",
        ")\n",
        "\n",
        "print(f\"Train: {len(X_train)} | Val: {len(X_val)} | Test: {len(X_test)}\")"
      ]
    },
    {
      "cell_type": "code",
      "execution_count": 6,
      "metadata": {},
      "outputs": [],
      "source": [
        "IMG_SIZE = (224, 224)\n",
        "\n",
        "def parse_image_mask(img_path, mask_path, label):\n",
        "    # lê e normaliza imagem\n",
        "    img = tf.io.read_file(img_path)\n",
        "    img = tf.image.decode_png(img, channels=3)\n",
        "    img = tf.image.resize(img, IMG_SIZE) / 255.0\n",
        "\n",
        "    # lê máscara e redimensiona\n",
        "    mask = tf.io.read_file(mask_path)\n",
        "    mask = tf.image.decode_png(mask, channels=1)\n",
        "    mask = tf.image.resize(mask, IMG_SIZE)\n",
        "\n",
        "    # aplica máscara\n",
        "    img = img * mask\n",
        "\n",
        "    # AUGMENTAÇÃO APENAS NO TREINO\n",
        "    if tf.random.uniform(()) > 0.5:\n",
        "        img = tf.image.random_flip_left_right(img)\n",
        "    if tf.random.uniform(()) > 0.5:\n",
        "        img = tf.image.random_flip_up_down(img)\n",
        "    if tf.random.uniform(()) > 0.5:\n",
        "        img = tf.image.random_brightness(img, max_delta=0.15)\n",
        "    if tf.random.uniform(()) > 0.5:\n",
        "        img = tf.image.random_contrast(img, lower=0.8, upper=1.2)\n",
        "    if tf.random.uniform(()) > 0.5:\n",
        "        img = tf.image.random_saturation(img, lower=0.8, upper=1.2)\n",
        "\n",
        "    return img, label"
      ]
    },
    {
      "cell_type": "code",
      "execution_count": 7,
      "metadata": {},
      "outputs": [
        {
          "name": "stderr",
          "output_type": "stream",
          "text": [
            "2025-04-28 23:01:00.386443: I external/local_xla/xla/stream_executor/cuda/cuda_executor.cc:887] could not open file to read NUMA node: /sys/bus/pci/devices/0000:01:00.0/numa_node\n",
            "Your kernel may have been built without NUMA support.\n",
            "2025-04-28 23:01:00.386485: I external/local_xla/xla/stream_executor/cuda/cuda_executor.cc:887] could not open file to read NUMA node: /sys/bus/pci/devices/0000:01:00.0/numa_node\n",
            "Your kernel may have been built without NUMA support.\n",
            "2025-04-28 23:01:00.386498: I external/local_xla/xla/stream_executor/cuda/cuda_executor.cc:887] could not open file to read NUMA node: /sys/bus/pci/devices/0000:01:00.0/numa_node\n",
            "Your kernel may have been built without NUMA support.\n",
            "2025-04-28 23:01:00.386501: W tensorflow/core/common_runtime/gpu/gpu_device.cc:2348] TensorFlow was not built with CUDA kernel binaries compatible with compute capability 12.0. CUDA kernels will be jit-compiled from PTX, which could take 30 minutes or longer.\n",
            "2025-04-28 23:01:00.570017: I external/local_xla/xla/stream_executor/cuda/cuda_executor.cc:887] could not open file to read NUMA node: /sys/bus/pci/devices/0000:01:00.0/numa_node\n",
            "Your kernel may have been built without NUMA support.\n",
            "2025-04-28 23:01:00.570048: I external/local_xla/xla/stream_executor/cuda/cuda_executor.cc:887] could not open file to read NUMA node: /sys/bus/pci/devices/0000:01:00.0/numa_node\n",
            "Your kernel may have been built without NUMA support.\n",
            "2025-04-28 23:01:00.570053: I tensorflow/core/common_runtime/gpu/gpu_device.cc:2022] Could not identify NUMA node of platform GPU id 0, defaulting to 0.  Your kernel may not have been built with NUMA support.\n",
            "2025-04-28 23:01:00.570073: I external/local_xla/xla/stream_executor/cuda/cuda_executor.cc:887] could not open file to read NUMA node: /sys/bus/pci/devices/0000:01:00.0/numa_node\n",
            "Your kernel may have been built without NUMA support.\n",
            "2025-04-28 23:01:00.570085: I tensorflow/core/common_runtime/gpu/gpu_device.cc:1929] Created device /job:localhost/replica:0/task:0/device:GPU:0 with 13123 MB memory:  -> device: 0, name: NVIDIA GeForce RTX 5070 Ti, pci bus id: 0000:01:00.0, compute capability: 12.0\n"
          ]
        },
        {
          "name": "stdout",
          "output_type": "stream",
          "text": [
            "Batch imagens: (16, 224, 224, 3) Batch labels: [0 0 0 1 0 1 1 1 0 0 1 1 1 1 1 0]\n"
          ]
        }
      ],
      "source": [
        "def make_dataset(imgs, masks, labels, batch_size=16, shuffle=True):\n",
        "    ds = tf.data.Dataset.from_tensor_slices((imgs, masks, labels))\n",
        "    if shuffle:\n",
        "        ds = ds.shuffle(len(imgs))\n",
        "    ds = ds.map(lambda i, m, l: parse_image_mask(i, m, l),\n",
        "                num_parallel_calls=tf.data.AUTOTUNE)\n",
        "    ds = ds.batch(batch_size).prefetch(tf.data.AUTOTUNE)\n",
        "    return ds\n",
        "\n",
        "train_ds = make_dataset(X_train, M_train, y_train)\n",
        "val_ds = make_dataset(X_val, M_val, y_val, shuffle=False)\n",
        "test_ds = make_dataset(X_test, M_test, y_test, shuffle=False)\n",
        "\n",
        "# verificação rápida\n",
        "for imgs, labs in train_ds.take(1):\n",
        "    print(\"Batch imagens:\", imgs.shape, \"Batch labels:\", labs.numpy())"
      ]
    },
    {
      "cell_type": "markdown",
      "metadata": {},
      "source": [
        "---\n",
        "### **Passo 4:**\n",
        "#### Vamos definir o modelo e os blocos customizados"
      ]
    },
    {
      "cell_type": "code",
      "execution_count": 8,
      "metadata": {},
      "outputs": [],
      "source": [
        "class SEBlock(layers.Layer):\n",
        "    \"\"\"Squeeze-and-Excitation: recalibra dinamicamente a importância dos canais.\"\"\"\n",
        "    def __init__(self, channels, reduction=16, **kwargs):\n",
        "        super().__init__(**kwargs)\n",
        "        self.global_pool = layers.GlobalAveragePooling2D()\n",
        "        self.fc1         = layers.Dense(channels // reduction, activation=\"relu\")\n",
        "        self.fc2         = layers.Dense(channels,          activation=\"sigmoid\")\n",
        "        self.reshape     = layers.Reshape((1, 1, channels))\n",
        "        self.multiply    = layers.Multiply()\n",
        "\n",
        "    def call(self, x):\n",
        "        se = self.global_pool(x)      # [B, C]\n",
        "        se = self.fc1(se)             # [B, C/r]\n",
        "        se = self.fc2(se)             # [B, C]\n",
        "        se = self.reshape(se)         # [B, 1, 1, C]\n",
        "        return self.multiply([x, se])\n",
        "\n",
        "class PDFBlock(layers.Layer):\n",
        "    \"\"\"Pyramid-Dilated Fusion: múltiplas convoluções dilatadas + projeção 1×1.\"\"\"\n",
        "    def __init__(self, out_channels, kernel_sizes, dilations, **kwargs):\n",
        "        super().__init__(**kwargs)\n",
        "        assert len(kernel_sizes) == len(dilations), \"kernel_sizes e dilations devem ter mesmo tamanho\"\n",
        "        self.branches = []\n",
        "        for k, d in zip(kernel_sizes, dilations):\n",
        "            self.branches.append(\n",
        "                layers.Conv2D(\n",
        "                    filters=out_channels,\n",
        "                    kernel_size=k,\n",
        "                    padding=\"same\",\n",
        "                    dilation_rate=d,\n",
        "                    activation=\"relu\"\n",
        "                )\n",
        "            )\n",
        "        self.project = layers.Conv2D(filters=out_channels, kernel_size=1, activation=\"relu\")\n",
        "\n",
        "    def call(self, x):\n",
        "        feats = [branch(x) for branch in self.branches]\n",
        "        x_cat = tf.concat(feats, axis=-1)\n",
        "        return self.project(x_cat)"
      ]
    },
    {
      "cell_type": "code",
      "execution_count": 9,
      "metadata": {},
      "outputs": [
        {
          "name": "stdout",
          "output_type": "stream",
          "text": [
            "Model: \"MobileNetV2_PDF_SE_Clf\"\n",
            "_________________________________________________________________\n",
            " Layer (type)                Output Shape              Param #   \n",
            "=================================================================\n",
            " input_image (InputLayer)    [(None, 224, 224, 3)]     0         \n",
            "                                                                 \n",
            " efficientnetb0 (Functional  (None, 7, 7, 1280)        4049571   \n",
            " )                                                               \n",
            "                                                                 \n",
            " pdf_block (PDFBlock)        (None, 7, 7, 512)         56101376  \n",
            "                                                                 \n",
            " se_block (SEBlock)          (None, 7, 7, 512)         33312     \n",
            "                                                                 \n",
            " gap (GlobalAveragePooling2  (None, 512)               0         \n",
            " D)                                                              \n",
            "                                                                 \n",
            " fc1 (Dense)                 (None, 256)               131328    \n",
            "                                                                 \n",
            " dropout (Dropout)           (None, 256)               0         \n",
            "                                                                 \n",
            " output (Dense)              (None, 1)                 257       \n",
            "                                                                 \n",
            "=================================================================\n",
            "Total params: 60315844 (230.09 MB)\n",
            "Trainable params: 56266273 (214.64 MB)\n",
            "Non-trainable params: 4049571 (15.45 MB)\n",
            "_________________________________________________________________\n"
          ]
        }
      ],
      "source": [
        "# 1) Backbone ResNet50 sem top layer, retendo mapa espacial\n",
        "# Usando EfficientNetB0 como backbone por ser mais leve e rápido\n",
        "backbone = EfficientNetB0(\n",
        "    include_top=False,\n",
        "    weights=\"imagenet\",\n",
        "    input_shape=(*IMG_SIZE, 3)\n",
        ")\n",
        "backbone.trainable = False  # congelado no início\n",
        "\n",
        "# 2) Construção do grafo\n",
        "inp = Input(shape=(*IMG_SIZE, 3), name=\"input_image\")\n",
        "x   = backbone(inp)                            # [B, H', W', C=2048]\n",
        "\n",
        "# 3) Aplicar PDFBlock (multi‐escala)\n",
        "x = PDFBlock(\n",
        "    out_channels=512,\n",
        "    kernel_sizes=[1, 3, 5, 7],\n",
        "    dilations=[1, 2, 3, 4]\n",
        ")(x)  # agora [B, H', W', 512]\n",
        "\n",
        "# 4) Recalibração de canais via SEBlock\n",
        "x = SEBlock(channels=512, reduction=16)(x)      # [B, H', W', 512]\n",
        "\n",
        "# 5) Agregação e cabeça de classificação\n",
        "x = layers.GlobalAveragePooling2D(name=\"gap\")(x)  # [B, 512]\n",
        "x = layers.Dense(256, activation=\"relu\", name=\"fc1\")(x)\n",
        "x = layers.Dropout(0.5, name=\"dropout\")(x)\n",
        "out = layers.Dense(1, activation=\"sigmoid\", name=\"output\")(x)\n",
        "\n",
        "model_clf = Model(inputs=inp, outputs=out, name=\"MobileNetV2_PDF_SE_Clf\")\n",
        "\n",
        "#Penalizar mais os erros\n",
        "def focal_loss(alpha=0.55, gamma=2.):  \n",
        "    \"\"\"\n",
        "    alpha > 0.5 favorece mais o foco na classe 1 (Malignant).\n",
        "    \"\"\"\n",
        "    def focal_loss_fixed(y_true, y_pred):\n",
        "        y_true = tf.cast(y_true, tf.float32)\n",
        "        epsilon = tf.keras.backend.epsilon()\n",
        "        y_pred = tf.clip_by_value(y_pred, epsilon, 1. - epsilon)\n",
        "        \n",
        "        cross_entropy = -y_true * tf.math.log(y_pred) - (1 - y_true) * tf.math.log(1 - y_pred)\n",
        "        weight = alpha * tf.pow(1 - y_pred, gamma) * y_true + (1 - alpha) * tf.pow(y_pred, gamma) * (1 - y_true)\n",
        "        loss = weight * cross_entropy\n",
        "        return tf.reduce_mean(loss)\n",
        "    \n",
        "    return focal_loss_fixed\n",
        "\n",
        "# 6) Compilação do modelo\n",
        "model_clf.compile(\n",
        "    optimizer=tf.keras.optimizers.Adam(learning_rate=1e-4),\n",
        "    loss=focal_loss(alpha=0.55, gamma=2.),\n",
        "    metrics=[\"accuracy\", tf.keras.metrics.AUC(name=\"auc\")]\n",
        ")\n",
        "\n",
        "model_clf.summary()"
      ]
    },
    {
      "cell_type": "markdown",
      "metadata": {},
      "source": [
        "---\n",
        "### **Passo 5:**\n",
        "#### Treino e monitoramento"
      ]
    },
    {
      "cell_type": "code",
      "execution_count": 10,
      "metadata": {},
      "outputs": [],
      "source": [
        "callbacks_list = [\n",
        "    callbacks.EarlyStopping(\n",
        "        monitor=\"val_auc\",\n",
        "        patience=4,\n",
        "        mode=\"max\",\n",
        "        restore_best_weights=True,\n",
        "        verbose=1\n",
        "    ),\n",
        "    callbacks.ModelCheckpoint(\n",
        "        \"best_model.h5\",\n",
        "        monitor=\"val_auc\",\n",
        "        mode=\"max\",\n",
        "        save_best_only=True,\n",
        "        verbose=1\n",
        "    )\n",
        "]"
      ]
    },
    {
      "cell_type": "code",
      "execution_count": 11,
      "metadata": {},
      "outputs": [
        {
          "name": "stdout",
          "output_type": "stream",
          "text": [
            "{0: 1.134, 1: 0.8943217665615142}\n"
          ]
        }
      ],
      "source": [
        "from sklearn.utils.class_weight import compute_class_weight\n",
        "import numpy as np\n",
        "\n",
        "# Calcular pesos\n",
        "class_weights = compute_class_weight(\n",
        "    class_weight=\"balanced\",\n",
        "    classes=np.array([0, 1]),\n",
        "    y=y_train  # (usa os labels do treino)\n",
        ")\n",
        "\n",
        "class_weights_dict = {0: class_weights[0], 1: class_weights[1]}\n",
        "print(class_weights_dict)\n"
      ]
    },
    {
      "cell_type": "code",
      "execution_count": 12,
      "metadata": {},
      "outputs": [
        {
          "name": "stdout",
          "output_type": "stream",
          "text": [
            "Epoch 1/30\n"
          ]
        },
        {
          "name": "stderr",
          "output_type": "stream",
          "text": [
            "2025-04-28 23:01:05.227966: E tensorflow/core/grappler/optimizers/meta_optimizer.cc:961] layout failed: INVALID_ARGUMENT: Size of values 0 does not match size of permutation 4 @ fanin shape inMobileNetV2_PDF_SE_Clf/efficientnetb0/block2b_drop/dropout/SelectV2-2-TransposeNHWCToNCHW-LayoutOptimizer\n",
            "2025-04-28 23:01:05.796070: I external/local_xla/xla/stream_executor/cuda/cuda_dnn.cc:454] Loaded cuDNN version 8907\n",
            "2025-04-28 23:01:07.403669: I external/local_xla/xla/service/service.cc:168] XLA service 0x7f56b010cdb0 initialized for platform CUDA (this does not guarantee that XLA will be used). Devices:\n",
            "2025-04-28 23:01:07.403697: I external/local_xla/xla/service/service.cc:176]   StreamExecutor device (0): NVIDIA GeForce RTX 5070 Ti, Compute Capability 12.0\n",
            "2025-04-28 23:01:07.407374: I tensorflow/compiler/mlir/tensorflow/utils/dump_mlir_util.cc:269] disabling MLIR crash reproducer, set env var `MLIR_CRASH_REPRODUCER_DIRECTORY` to enable.\n",
            "WARNING: All log messages before absl::InitializeLog() is called are written to STDERR\n",
            "I0000 00:00:1745892067.445836  142072 device_compiler.h:186] Compiled cluster using XLA!  This line is logged at most once for the lifetime of the process.\n"
          ]
        },
        {
          "name": "stdout",
          "output_type": "stream",
          "text": [
            "36/36 [==============================] - ETA: 0s - loss: 0.0867 - accuracy: 0.5520 - auc: 0.5701\n",
            "Epoch 1: val_auc improved from -inf to 0.64216, saving model to best_model.h5\n"
          ]
        },
        {
          "name": "stderr",
          "output_type": "stream",
          "text": [
            "/home/gustavo/.pyenv/versions/tf-gpu-env/lib/python3.10/site-packages/keras/src/engine/training.py:3103: UserWarning: You are saving your model as an HDF5 file via `model.save()`. This file format is considered legacy. We recommend using instead the native Keras format, e.g. `model.save('my_model.keras')`.\n",
            "  saving_api.save_model(\n"
          ]
        },
        {
          "name": "stdout",
          "output_type": "stream",
          "text": [
            "36/36 [==============================] - 16s 163ms/step - loss: 0.0867 - accuracy: 0.5520 - auc: 0.5701 - val_loss: 0.0821 - val_accuracy: 0.5984 - val_auc: 0.6422\n",
            "Epoch 2/30\n",
            "30/36 [========================>.....] - ETA: 6s - loss: 0.0823 - accuracy: 0.6208 - auc: 0.6661\n",
            "Epoch 2: val_auc improved from 0.64216 to 0.74169, saving model to best_model.h5\n",
            "36/36 [==============================] - 2s 65ms/step - loss: 0.0833 - accuracy: 0.6049 - auc: 0.6501 - val_loss: 0.0764 - val_accuracy: 0.6393 - val_auc: 0.7417\n",
            "Epoch 3/30\n",
            "35/36 [============================>.] - ETA: 0s - loss: 0.0784 - accuracy: 0.6679 - auc: 0.6990\n",
            "Epoch 3: val_auc improved from 0.74169 to 0.75980, saving model to best_model.h5\n",
            "36/36 [==============================] - 2s 65ms/step - loss: 0.0787 - accuracy: 0.6631 - auc: 0.6950 - val_loss: 0.0792 - val_accuracy: 0.6639 - val_auc: 0.7598\n",
            "Epoch 4/30\n",
            "35/36 [============================>.] - ETA: 0s - loss: 0.0761 - accuracy: 0.6696 - auc: 0.7314\n",
            "Epoch 4: val_auc did not improve from 0.75980\n",
            "36/36 [==============================] - 2s 48ms/step - loss: 0.0760 - accuracy: 0.6720 - auc: 0.7321 - val_loss: 0.0785 - val_accuracy: 0.6475 - val_auc: 0.6815\n",
            "Epoch 5/30\n",
            "36/36 [==============================] - ETA: 0s - loss: 0.0694 - accuracy: 0.7337 - auc: 0.7956\n",
            "Epoch 5: val_auc did not improve from 0.75980\n",
            "36/36 [==============================] - 2s 48ms/step - loss: 0.0694 - accuracy: 0.7337 - auc: 0.7956 - val_loss: 0.0741 - val_accuracy: 0.6721 - val_auc: 0.7275\n",
            "Epoch 6/30\n",
            "36/36 [==============================] - ETA: 0s - loss: 0.0672 - accuracy: 0.7443 - auc: 0.8026\n",
            "Epoch 6: val_auc did not improve from 0.75980\n",
            "36/36 [==============================] - 2s 48ms/step - loss: 0.0672 - accuracy: 0.7443 - auc: 0.8026 - val_loss: 0.0776 - val_accuracy: 0.6393 - val_auc: 0.7191\n",
            "Epoch 7/30\n",
            "30/36 [========================>.....] - ETA: 6s - loss: 0.0639 - accuracy: 0.7458 - auc: 0.8317Restoring model weights from the end of the best epoch: 3.\n",
            "\n",
            "Epoch 7: val_auc did not improve from 0.75980\n",
            "36/36 [==============================] - 2s 52ms/step - loss: 0.0635 - accuracy: 0.7460 - auc: 0.8329 - val_loss: 0.0734 - val_accuracy: 0.6393 - val_auc: 0.7379\n",
            "Epoch 7: early stopping\n"
          ]
        }
      ],
      "source": [
        "history = model_clf.fit(\n",
        "    train_ds,\n",
        "    validation_data=val_ds,\n",
        "    epochs=30,\n",
        "    callbacks=callbacks_list,\n",
        "    class_weight=class_weights_dict\n",
        ")"
      ]
    },
    {
      "cell_type": "code",
      "execution_count": 13,
      "metadata": {},
      "outputs": [
        {
          "name": "stdout",
          "output_type": "stream",
          "text": [
            "8/8 [==============================] - 1s 25ms/step\n",
            "              precision    recall  f1-score   support\n",
            "\n",
            "      Benign       0.55      0.72      0.62        54\n",
            "   Malignant       0.71      0.53      0.61        68\n",
            "\n",
            "    accuracy                           0.61       122\n",
            "   macro avg       0.63      0.63      0.61       122\n",
            "weighted avg       0.64      0.61      0.61       122\n",
            "\n"
          ]
        },
        {
          "data": {
            "image/png": "[encoded data removed]",
            "text/plain": [
              "<Figure size 600x500 with 2 Axes>"
            ]
          },
          "metadata": {},
          "output_type": "display_data"
        }
      ],
      "source": [
        "# Previsões\n",
        "y_pred_prob = model_clf.predict(test_ds)\n",
        "y_pred = (y_pred_prob > 0.5).astype(int).reshape(-1)\n",
        "y_true = np.concatenate([labels.numpy() for imgs, labels in test_ds], axis=0)\n",
        "\n",
        "# Classification Report\n",
        "from sklearn.metrics import classification_report\n",
        "print(classification_report(y_true, y_pred, target_names=[\"Benign\", \"Malignant\"]))\n",
        "\n",
        "# Confusion Matrix\n",
        "from sklearn.metrics import confusion_matrix\n",
        "import seaborn as sns\n",
        "import matplotlib.pyplot as plt\n",
        "\n",
        "cm = confusion_matrix(y_true, y_pred)\n",
        "plt.figure(figsize=(6,5))\n",
        "sns.heatmap(cm, annot=True, fmt=\"d\", cmap=\"Blues\", xticklabels=[\"Benign\", \"Malignant\"], yticklabels=[\"Benign\", \"Malignant\"])\n",
        "plt.xlabel(\"Predicted\")\n",
        "plt.ylabel(\"True\")\n",
        "plt.title(\"Confusion Matrix\")\n",
        "plt.show()\n"
      ]
    },
    {
      "cell_type": "code",
      "execution_count": 14,
      "metadata": {},
      "outputs": [],
      "source": [
        "# Descongelar EfficientNetB0 a partir de 70% das camadas\n",
        "fine_tune_at = int(len(backbone.layers) * 0.7)\n",
        "\n",
        "for layer in backbone.layers[fine_tune_at:]:\n",
        "    layer.trainable = True\n",
        "\n",
        "# Recompilar o modelo com learning rate menor\n",
        "model_clf.compile(\n",
        "    optimizer=tf.keras.optimizers.Adam(learning_rate=1e-5),\n",
        "    loss=\"binary_crossentropy\",\n",
        "    metrics=[\"accuracy\", tf.keras.metrics.AUC(name=\"auc\")]\n",
        ")\n"
      ]
    },
    {
      "cell_type": "code",
      "execution_count": 15,
      "metadata": {},
      "outputs": [
        {
          "name": "stdout",
          "output_type": "stream",
          "text": [
            "Epoch 1/5\n",
            "36/36 [==============================] - ETA: 0s - loss: 0.6536 - accuracy: 0.6384 - auc: 0.6977\n",
            "Epoch 1: val_auc did not improve from 0.75980\n",
            "36/36 [==============================] - 6s 73ms/step - loss: 0.6536 - accuracy: 0.6384 - auc: 0.6977 - val_loss: 0.6408 - val_accuracy: 0.6639 - val_auc: 0.7563\n",
            "Epoch 2/5\n",
            "36/36 [==============================] - ETA: 0s - loss: 0.6473 - accuracy: 0.6279 - auc: 0.6848\n",
            "Epoch 2: val_auc did not improve from 0.75980\n",
            "36/36 [==============================] - 2s 49ms/step - loss: 0.6473 - accuracy: 0.6279 - auc: 0.6848 - val_loss: 0.6274 - val_accuracy: 0.6721 - val_auc: 0.7407\n",
            "Epoch 3/5\n",
            " 6/36 [====>.........................] - ETA: 3:04 - loss: 0.6019 - accuracy: 0.7604 - auc: 0.8285\n",
            "Epoch 3: val_auc did not improve from 0.75980\n",
            "36/36 [==============================] - 2s 49ms/step - loss: 0.6318 - accuracy: 0.6614 - auc: 0.7233 - val_loss: 0.6191 - val_accuracy: 0.6311 - val_auc: 0.7269\n",
            "Epoch 4/5\n",
            "36/36 [==============================] - ETA: 0s - loss: 0.6166 - accuracy: 0.6720 - auc: 0.7516\n",
            "Epoch 4: val_auc did not improve from 0.75980\n",
            "36/36 [==============================] - 2s 50ms/step - loss: 0.6166 - accuracy: 0.6720 - auc: 0.7516 - val_loss: 0.6142 - val_accuracy: 0.6393 - val_auc: 0.7318\n",
            "Epoch 5/5\n",
            "35/36 [============================>.] - ETA: 0s - loss: 0.6126 - accuracy: 0.6929 - auc: 0.7544Restoring model weights from the end of the best epoch: 1.\n",
            "\n",
            "Epoch 5: val_auc did not improve from 0.75980\n",
            "36/36 [==============================] - 2s 53ms/step - loss: 0.6124 - accuracy: 0.6949 - auc: 0.7557 - val_loss: 0.6103 - val_accuracy: 0.5902 - val_auc: 0.7230\n",
            "Epoch 5: early stopping\n"
          ]
        }
      ],
      "source": [
        "# Treinar mais algumas épocas após liberar as camadas\n",
        "history_finetune = model_clf.fit(\n",
        "    train_ds,\n",
        "    validation_data=val_ds,\n",
        "    epochs=5,\n",
        "    callbacks=callbacks_list,\n",
        "    class_weight=class_weights_dict  # Mantém pesos!\n",
        ")\n"
      ]
    },
    {
      "cell_type": "code",
      "execution_count": 16,
      "metadata": {},
      "outputs": [
        {
          "name": "stdout",
          "output_type": "stream",
          "text": [
            "8/8 [==============================] - 0s 28ms/step - loss: 0.6598 - accuracy: 0.6148 - auc: 0.6570\n",
            "Test Loss: 0.6598\n",
            "Test Accuracy: 0.6148\n",
            "Test AUC: 0.6570\n"
          ]
        }
      ],
      "source": [
        "# Avaliar no conjunto de teste\n",
        "loss, accuracy, auc = model_clf.evaluate(test_ds)\n",
        "print(f\"Test Loss: {loss:.4f}\")\n",
        "print(f\"Test Accuracy: {accuracy:.4f}\")\n",
        "print(f\"Test AUC: {auc:.4f}\")\n"
      ]
    },
    {
      "cell_type": "code",
      "execution_count": 17,
      "metadata": {},
      "outputs": [
        {
          "name": "stdout",
          "output_type": "stream",
          "text": [
            "8/8 [==============================] - 1s 25ms/step\n",
            "              precision    recall  f1-score   support\n",
            "\n",
            "      Benign       0.57      0.50      0.53        54\n",
            "   Malignant       0.64      0.71      0.67        68\n",
            "\n",
            "    accuracy                           0.61       122\n",
            "   macro avg       0.61      0.60      0.60       122\n",
            "weighted avg       0.61      0.61      0.61       122\n",
            "\n"
          ]
        },
        {
          "data": {
            "image/png": "[encoded data removed]",
            "text/plain": [
              "<Figure size 600x500 with 2 Axes>"
            ]
          },
          "metadata": {},
          "output_type": "display_data"
        }
      ],
      "source": [
        "# Previsões\n",
        "y_pred_prob = model_clf.predict(test_ds)\n",
        "y_pred = (y_pred_prob > 0.5).astype(int).reshape(-1)\n",
        "y_true = np.concatenate([labels.numpy() for imgs, labels in test_ds], axis=0)\n",
        "\n",
        "# Classification Report\n",
        "from sklearn.metrics import classification_report\n",
        "print(classification_report(y_true, y_pred, target_names=[\"Benign\", \"Malignant\"]))\n",
        "\n",
        "# Confusion Matrix\n",
        "from sklearn.metrics import confusion_matrix\n",
        "import seaborn as sns\n",
        "import matplotlib.pyplot as plt\n",
        "\n",
        "cm = confusion_matrix(y_true, y_pred)\n",
        "plt.figure(figsize=(6,5))\n",
        "sns.heatmap(cm, annot=True, fmt=\"d\", cmap=\"Blues\", xticklabels=[\"Benign\", \"Malignant\"], yticklabels=[\"Benign\", \"Malignant\"])\n",
        "plt.xlabel(\"Predicted\")\n",
        "plt.ylabel(\"True\")\n",
        "plt.title(\"Confusion Matrix\")\n",
        "plt.show()\n"
      ]
    },
    {
      "cell_type": "code",
      "execution_count": null,
      "metadata": {},
      "outputs": [
        {
          "name": "stdout",
          "output_type": "stream",
          "text": [
            "[NbConvertApp] Converting notebook ProjetoFinal.ipynb to pdf\n",
            "[NbConvertApp] Support files will be in ProjetoFinal_files/\n",
            "[NbConvertApp] Making directory ./ProjetoFinal_files\n",
            "[NbConvertApp] Writing 84694 bytes to notebook.tex\n",
            "[NbConvertApp] Building PDF\n",
            "[NbConvertApp] Running xelatex 3 times: ['xelatex', 'notebook.tex', '-quiet']\n",
            "[NbConvertApp] Running bibtex 1 time: ['bibtex', 'notebook']\n",
            "[NbConvertApp] WARNING | bibtex had problems, most likely because there were no citations\n",
            "[NbConvertApp] PDF successfully created\n",
            "[NbConvertApp] Writing 122384 bytes to ProjetoFinal.pdf\n"
          ]
        }
      ],
      "source": [
        "#!jupyter nbconvert --to pdf ProjetoFinal.ipynb\n"
      ]
    }
  ],
  "metadata": {
    "colab": {
      "name": "10_ProjetoFinalParaEntregar.ipynb",
      "provenance": []
    },
    "kernelspec": {
      "display_name": "tf-gpu-env",
      "language": "python",
      "name": "python3"
    },
    "language_info": {
      "codemirror_mode": {
        "name": "ipython",
        "version": 3
      },
      "file_extension": ".py",
      "mimetype": "text/x-python",
      "name": "python",
      "nbconvert_exporter": "python",
      "pygments_lexer": "ipython3",
      "version": "3.10.14"
    }
  },
  "nbformat": 4,
  "nbformat_minor": 0
}
