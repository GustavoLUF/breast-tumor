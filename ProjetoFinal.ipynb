{
  "cells": [
    {
      "attachments": {},
      "cell_type": "markdown",
      "metadata": {
        "id": "IbOe-bOxS_Xl"
      },
      "source": [
        "### Pós-graduação em Ciência de Dados e Machine Learning\n",
        "\n",
        "#### Disciplina: **Introdução a Redes Neurais**\n",
        "\n",
        "#### Projeto Final para disciplina Introdução a Redes Neurais\n",
        "\n",
        "<BR>\n",
        "    \n",
        "### **Integrantes**:\n",
        "#### Nome:  Gustavo Gomes Balbino\n",
        "#### RA: \n",
        "---\n",
        "#### Nome:  Gustavo Lopes Urio Fonseca\n",
        "#### RA: 52400113\n",
        "---"
      ]
    },
    {
      "cell_type": "markdown",
      "metadata": {},
      "source": [
        "# Classificação de Tumores de Mama em Imagens de Ultrassom\n",
        "\n",
        "**Objetivos**  \n",
        "1. **Pré-processamento**: usar máscaras para recortar região de tumor.  \n",
        "2. **Modelagem**: ResNet50 pré-treinada + blocos customizados (PDFBlock + SEBlock).  \n",
        "3. **Treino**: otimizar usando loss binária, métricas AUC e acurácia.  \n",
        "4. **Avaliação**: matriz de confusão, AUC e relatório de resultados.\n",
        "\n",
        "**Métricas de Sucesso**  \n",
        "- Acurácia ≥ X%  \n",
        "- AUC ≥ Y%  \n",
        "- Boa separação das classes (confusion matrix bem balanceada)"
      ]
    },
    {
      "cell_type": "markdown",
      "metadata": {},
      "source": [
        "---\n",
        "### **Passo 1:**\n",
        "#### Vamos começar fazendo o download e importando as bibliotecas necessárias:"
      ]
    },
    {
      "cell_type": "code",
      "execution_count": 1,
      "metadata": {},
      "outputs": [
        {
          "name": "stdout",
          "output_type": "stream",
          "text": [
            "\n",
            "\u001b[1m[\u001b[0m\u001b[34;49mnotice\u001b[0m\u001b[1;39;49m]\u001b[0m\u001b[39;49m A new release of pip is available: \u001b[0m\u001b[31;49m23.0.1\u001b[0m\u001b[39;49m -> \u001b[0m\u001b[32;49m25.1\u001b[0m\n",
            "\u001b[1m[\u001b[0m\u001b[34;49mnotice\u001b[0m\u001b[1;39;49m]\u001b[0m\u001b[39;49m To update, run: \u001b[0m\u001b[32;49mpip install --upgrade pip\u001b[0m\n"
          ]
        }
      ],
      "source": [
        "!pip install --quiet tensorflow matplotlib pandas scikit-learn"
      ]
    },
    {
      "cell_type": "code",
      "execution_count": 2,
      "metadata": {},
      "outputs": [
        {
          "name": "stderr",
          "output_type": "stream",
          "text": [
            "2025-04-28 18:54:05.914455: E external/local_xla/xla/stream_executor/cuda/cuda_fft.cc:467] Unable to register cuFFT factory: Attempting to register factory for plugin cuFFT when one has already been registered\n",
            "WARNING: All log messages before absl::InitializeLog() is called are written to STDERR\n",
            "E0000 00:00:1745877245.927906  295391 cuda_dnn.cc:8579] Unable to register cuDNN factory: Attempting to register factory for plugin cuDNN when one has already been registered\n",
            "E0000 00:00:1745877245.931334  295391 cuda_blas.cc:1407] Unable to register cuBLAS factory: Attempting to register factory for plugin cuBLAS when one has already been registered\n",
            "W0000 00:00:1745877245.942153  295391 computation_placer.cc:177] computation placer already registered. Please check linkage and avoid linking the same target more than once.\n",
            "W0000 00:00:1745877245.942185  295391 computation_placer.cc:177] computation placer already registered. Please check linkage and avoid linking the same target more than once.\n",
            "W0000 00:00:1745877245.942187  295391 computation_placer.cc:177] computation placer already registered. Please check linkage and avoid linking the same target more than once.\n",
            "W0000 00:00:1745877245.942189  295391 computation_placer.cc:177] computation placer already registered. Please check linkage and avoid linking the same target more than once.\n",
            "2025-04-28 18:54:05.947350: I tensorflow/core/platform/cpu_feature_guard.cc:210] This TensorFlow binary is optimized to use available CPU instructions in performance-critical operations.\n",
            "To enable the following instructions: AVX2 FMA, in other operations, rebuild TensorFlow with the appropriate compiler flags.\n"
          ]
        },
        {
          "name": "stdout",
          "output_type": "stream",
          "text": [
            "Dispositivos visíveis: [PhysicalDevice(name='/physical_device:CPU:0', device_type='CPU')]\n"
          ]
        },
        {
          "name": "stderr",
          "output_type": "stream",
          "text": [
            "2025-04-28 18:54:08.949260: E external/local_xla/xla/stream_executor/cuda/cuda_platform.cc:51] failed call to cuInit: INTERNAL: CUDA error: Failed call to cuInit: CUDA_ERROR_NO_DEVICE: no CUDA-capable device is detected\n"
          ]
        },
        {
          "data": {
            "text/plain": [
              "'2.19.0'"
            ]
          },
          "execution_count": 2,
          "metadata": {},
          "output_type": "execute_result"
        }
      ],
      "source": [
        "import os, glob\n",
        "os.environ[\"CUDA_VISIBLE_DEVICES\"] = \"\"\n",
        "import numpy  as np\n",
        "import pandas as pd\n",
        "import matplotlib.pyplot as plt\n",
        "\n",
        "from sklearn.model_selection import train_test_split\n",
        "from sklearn.utils          import shuffle as skshuffle\n",
        "\n",
        "import tensorflow as tf\n",
        "from tensorflow import keras\n",
        "from tensorflow.keras import layers, callbacks, Input, Model\n",
        "from tensorflow.keras.applications import ResNet50\n",
        "\n",
        "print(\"Dispositivos visíveis:\", tf.config.list_physical_devices())\n",
        "\n",
        "tf.__version__"
      ]
    },
    {
      "cell_type": "markdown",
      "metadata": {},
      "source": [
        "---\n",
        "### **Passo 2:**\n",
        "#### Uma breve visualização do 'dataset.csv'"
      ]
    },
    {
      "cell_type": "code",
      "execution_count": 3,
      "metadata": {},
      "outputs": [
        {
          "data": {
            "application/vnd.microsoft.datawrangler.viewer.v0+json": {
              "columns": [
                {
                  "name": "index",
                  "rawType": "int64",
                  "type": "integer"
                },
                {
                  "name": "Level",
                  "rawType": "int64",
                  "type": "integer"
                },
                {
                  "name": "Name",
                  "rawType": "object",
                  "type": "string"
                },
                {
                  "name": "Type",
                  "rawType": "object",
                  "type": "string"
                },
                {
                  "name": "Description",
                  "rawType": "object",
                  "type": "string"
                },
                {
                  "name": "File Count",
                  "rawType": "int64",
                  "type": "integer"
                }
              ],
              "conversionMethod": "pd.DataFrame",
              "ref": "f1529dfc-5821-44e9-ab5a-6869e0b40eff",
              "rows": [
                [
                  "0",
                  "0",
                  ".",
                  "directory",
                  "Root directory",
                  "2"
                ],
                [
                  "1",
                  "1",
                  "images",
                  "directory",
                  "Contains all ultrasound images",
                  "811"
                ],
                [
                  "2",
                  "1",
                  "masks",
                  "directory",
                  "Contains corresponding segmentation masks",
                  "811"
                ],
                [
                  "3",
                  "1",
                  "Benign",
                  "directory",
                  "Contains benign tumor data",
                  "2"
                ],
                [
                  "4",
                  "2",
                  "Benign/images",
                  "directory",
                  "Ultrasound images of benign tumors",
                  "358"
                ],
                [
                  "5",
                  "2",
                  "Benign/masks",
                  "directory",
                  "Segmentation masks for benign tumors",
                  "358"
                ],
                [
                  "6",
                  "1",
                  "Malignant",
                  "directory",
                  "Contains malignant tumor data",
                  "2"
                ],
                [
                  "7",
                  "2",
                  "Malignant/images",
                  "directory",
                  "Ultrasound images of malignant tumors",
                  "453"
                ],
                [
                  "8",
                  "2",
                  "Malignant/masks",
                  "directory",
                  "Segmentation masks for malignant tumors",
                  "453"
                ]
              ],
              "shape": {
                "columns": 5,
                "rows": 9
              }
            },
            "text/html": [
              "<div>\n",
              "<style scoped>\n",
              "    .dataframe tbody tr th:only-of-type {\n",
              "        vertical-align: middle;\n",
              "    }\n",
              "\n",
              "    .dataframe tbody tr th {\n",
              "        vertical-align: top;\n",
              "    }\n",
              "\n",
              "    .dataframe thead th {\n",
              "        text-align: right;\n",
              "    }\n",
              "</style>\n",
              "<table border=\"1\" class=\"dataframe\">\n",
              "  <thead>\n",
              "    <tr style=\"text-align: right;\">\n",
              "      <th></th>\n",
              "      <th>Level</th>\n",
              "      <th>Name</th>\n",
              "      <th>Type</th>\n",
              "      <th>Description</th>\n",
              "      <th>File Count</th>\n",
              "    </tr>\n",
              "  </thead>\n",
              "  <tbody>\n",
              "    <tr>\n",
              "      <th>0</th>\n",
              "      <td>0</td>\n",
              "      <td>.</td>\n",
              "      <td>directory</td>\n",
              "      <td>Root directory</td>\n",
              "      <td>2</td>\n",
              "    </tr>\n",
              "    <tr>\n",
              "      <th>1</th>\n",
              "      <td>1</td>\n",
              "      <td>images</td>\n",
              "      <td>directory</td>\n",
              "      <td>Contains all ultrasound images</td>\n",
              "      <td>811</td>\n",
              "    </tr>\n",
              "    <tr>\n",
              "      <th>2</th>\n",
              "      <td>1</td>\n",
              "      <td>masks</td>\n",
              "      <td>directory</td>\n",
              "      <td>Contains corresponding segmentation masks</td>\n",
              "      <td>811</td>\n",
              "    </tr>\n",
              "    <tr>\n",
              "      <th>3</th>\n",
              "      <td>1</td>\n",
              "      <td>Benign</td>\n",
              "      <td>directory</td>\n",
              "      <td>Contains benign tumor data</td>\n",
              "      <td>2</td>\n",
              "    </tr>\n",
              "    <tr>\n",
              "      <th>4</th>\n",
              "      <td>2</td>\n",
              "      <td>Benign/images</td>\n",
              "      <td>directory</td>\n",
              "      <td>Ultrasound images of benign tumors</td>\n",
              "      <td>358</td>\n",
              "    </tr>\n",
              "    <tr>\n",
              "      <th>5</th>\n",
              "      <td>2</td>\n",
              "      <td>Benign/masks</td>\n",
              "      <td>directory</td>\n",
              "      <td>Segmentation masks for benign tumors</td>\n",
              "      <td>358</td>\n",
              "    </tr>\n",
              "    <tr>\n",
              "      <th>6</th>\n",
              "      <td>1</td>\n",
              "      <td>Malignant</td>\n",
              "      <td>directory</td>\n",
              "      <td>Contains malignant tumor data</td>\n",
              "      <td>2</td>\n",
              "    </tr>\n",
              "    <tr>\n",
              "      <th>7</th>\n",
              "      <td>2</td>\n",
              "      <td>Malignant/images</td>\n",
              "      <td>directory</td>\n",
              "      <td>Ultrasound images of malignant tumors</td>\n",
              "      <td>453</td>\n",
              "    </tr>\n",
              "    <tr>\n",
              "      <th>8</th>\n",
              "      <td>2</td>\n",
              "      <td>Malignant/masks</td>\n",
              "      <td>directory</td>\n",
              "      <td>Segmentation masks for malignant tumors</td>\n",
              "      <td>453</td>\n",
              "    </tr>\n",
              "  </tbody>\n",
              "</table>\n",
              "</div>"
            ],
            "text/plain": [
              "   Level              Name       Type  \\\n",
              "0      0                 .  directory   \n",
              "1      1            images  directory   \n",
              "2      1             masks  directory   \n",
              "3      1            Benign  directory   \n",
              "4      2     Benign/images  directory   \n",
              "5      2      Benign/masks  directory   \n",
              "6      1         Malignant  directory   \n",
              "7      2  Malignant/images  directory   \n",
              "8      2   Malignant/masks  directory   \n",
              "\n",
              "                                 Description  File Count  \n",
              "0                             Root directory           2  \n",
              "1             Contains all ultrasound images         811  \n",
              "2  Contains corresponding segmentation masks         811  \n",
              "3                 Contains benign tumor data           2  \n",
              "4         Ultrasound images of benign tumors         358  \n",
              "5       Segmentation masks for benign tumors         358  \n",
              "6              Contains malignant tumor data           2  \n",
              "7      Ultrasound images of malignant tumors         453  \n",
              "8    Segmentation masks for malignant tumors         453  "
            ]
          },
          "execution_count": 3,
          "metadata": {},
          "output_type": "execute_result"
        }
      ],
      "source": [
        "df = pd.read_csv('dataset.csv', sep=',')\n",
        "df.head(10)"
      ]
    },
    {
      "cell_type": "markdown",
      "metadata": {},
      "source": [
        "##### Abaixo vamos listar imagens, máscaras e labels"
      ]
    },
    {
      "cell_type": "code",
      "execution_count": 4,
      "metadata": {},
      "outputs": [
        {
          "name": "stdout",
          "output_type": "stream",
          "text": [
            "Total: 811 imagens, 811 máscaras\n",
            "Distribuição: {1: 453, 0: 358}\n"
          ]
        }
      ],
      "source": [
        "BASE_DIR = \"BUS_UC/BUS_UC/BUS_UC\"\n",
        "IMG_PATTERN = \"*.png\"\n",
        "\n",
        "# diretórios\n",
        "dirs = {\n",
        "    0: (os.path.join(BASE_DIR, \"Benign\",    \"images\"),\n",
        "        os.path.join(BASE_DIR, \"Benign\",    \"masks\")),\n",
        "    1: (os.path.join(BASE_DIR, \"Malignant\", \"images\"),\n",
        "        os.path.join(BASE_DIR, \"Malignant\", \"masks\")),\n",
        "}\n",
        "\n",
        "all_images, all_masks, all_labels = [], [], []\n",
        "for label, (img_dir, mask_dir) in dirs.items():\n",
        "    imgs  = sorted(glob.glob(os.path.join(img_dir,  IMG_PATTERN)))\n",
        "    masks = sorted(glob.glob(os.path.join(mask_dir, IMG_PATTERN)))\n",
        "    all_images += imgs\n",
        "    all_masks  += masks\n",
        "    all_labels += [label] * len(imgs)\n",
        "\n",
        "print(f\"Total: {len(all_images)} imagens, {len(all_masks)} máscaras\")\n",
        "print(\"Distribuição:\", pd.Series(all_labels).value_counts().to_dict())"
      ]
    },
    {
      "cell_type": "markdown",
      "metadata": {},
      "source": [
        "---\n",
        "### **Passo 3:**\n",
        "#### Vamos agora embaralhar essas listas e separar para treino, validação e teste."
      ]
    },
    {
      "cell_type": "code",
      "execution_count": 5,
      "metadata": {},
      "outputs": [
        {
          "name": "stdout",
          "output_type": "stream",
          "text": [
            "Train: 567 | Val: 122 | Test: 122\n"
          ]
        }
      ],
      "source": [
        "imgs, masks, labs = skshuffle(all_images, all_masks, all_labels, random_state=42)\n",
        "X_train, X_rem, M_train, M_rem, y_train, y_rem = train_test_split(\n",
        "    imgs, masks, labs,\n",
        "    test_size=0.30, stratify=labs, random_state=42\n",
        ")\n",
        "X_val, X_test, M_val, M_test, y_val, y_test = train_test_split(\n",
        "    X_rem, M_rem, y_rem,\n",
        "    test_size=0.50, stratify=y_rem, random_state=42\n",
        ")\n",
        "\n",
        "print(f\"Train: {len(X_train)} | Val: {len(X_val)} | Test: {len(X_test)}\")"
      ]
    },
    {
      "cell_type": "code",
      "execution_count": 6,
      "metadata": {},
      "outputs": [],
      "source": [
        "IMG_SIZE = (224, 224)\n",
        "\n",
        "def parse_image_mask(img_path, mask_path, label):\n",
        "    # lê e normaliza imagem\n",
        "    img  = tf.io.read_file(img_path)\n",
        "    img  = tf.image.decode_png(img, channels=3)\n",
        "    img  = tf.image.resize(img, IMG_SIZE) / 255.0\n",
        "    \n",
        "    # lê máscara e redimensiona\n",
        "    mask = tf.io.read_file(mask_path)\n",
        "    mask = tf.image.decode_png(mask, channels=1)\n",
        "    mask = tf.image.resize(mask, IMG_SIZE)\n",
        "    \n",
        "    # aplica máscara para focar no tumor\n",
        "    img = img * mask\n",
        "    \n",
        "    return img, label"
      ]
    },
    {
      "cell_type": "code",
      "execution_count": 7,
      "metadata": {},
      "outputs": [
        {
          "name": "stdout",
          "output_type": "stream",
          "text": [
            "Batch imagens: (16, 224, 224, 3) Batch labels: [0 1 0 1 0 0 1 1 1 0 0 0 1 1 1 1]\n"
          ]
        },
        {
          "name": "stderr",
          "output_type": "stream",
          "text": [
            "2025-04-28 18:54:09.268278: I tensorflow/core/framework/local_rendezvous.cc:407] Local rendezvous is aborting with status: OUT_OF_RANGE: End of sequence\n"
          ]
        }
      ],
      "source": [
        "def make_dataset(imgs, masks, labels, batch_size=16, shuffle=True):\n",
        "    ds = tf.data.Dataset.from_tensor_slices((imgs, masks, labels))\n",
        "    if shuffle:\n",
        "        ds = ds.shuffle(len(imgs))\n",
        "    ds = ds.map(lambda i,m,l: parse_image_mask(i,m,l),\n",
        "                num_parallel_calls=tf.data.AUTOTUNE)\n",
        "    ds = ds.batch(batch_size).prefetch(tf.data.AUTOTUNE)\n",
        "    return ds\n",
        "\n",
        "train_ds = make_dataset(X_train, M_train, y_train)\n",
        "val_ds   = make_dataset(X_val,   M_val,   y_val,   shuffle=False)\n",
        "test_ds  = make_dataset(X_test,  M_test,  y_test,  shuffle=False)\n",
        "\n",
        "# verificação rápida\n",
        "for imgs, labs in train_ds.take(1):\n",
        "    print(\"Batch imagens:\", imgs.shape, \"Batch labels:\", labs.numpy())"
      ]
    },
    {
      "cell_type": "markdown",
      "metadata": {},
      "source": [
        "---\n",
        "### **Passo 4:**\n",
        "#### Vamos definir o modelo e os blocos customizados"
      ]
    },
    {
      "cell_type": "code",
      "execution_count": 8,
      "metadata": {},
      "outputs": [],
      "source": [
        "class SEBlock(layers.Layer):\n",
        "    \"\"\"Squeeze-and-Excitation: recalibra dinamicamente a importância dos canais.\"\"\"\n",
        "    def __init__(self, channels, reduction=16, **kwargs):\n",
        "        super().__init__(**kwargs)\n",
        "        self.global_pool = layers.GlobalAveragePooling2D()\n",
        "        self.fc1         = layers.Dense(channels // reduction, activation=\"relu\")\n",
        "        self.fc2         = layers.Dense(channels,          activation=\"sigmoid\")\n",
        "        self.reshape     = layers.Reshape((1, 1, channels))\n",
        "        self.multiply    = layers.Multiply()\n",
        "\n",
        "    def call(self, x):\n",
        "        se = self.global_pool(x)      # [B, C]\n",
        "        se = self.fc1(se)             # [B, C/r]\n",
        "        se = self.fc2(se)             # [B, C]\n",
        "        se = self.reshape(se)         # [B, 1, 1, C]\n",
        "        return self.multiply([x, se])\n",
        "\n",
        "class PDFBlock(layers.Layer):\n",
        "    \"\"\"Pyramid-Dilated Fusion: múltiplas convoluções dilatadas + projeção 1×1.\"\"\"\n",
        "    def __init__(self, out_channels, kernel_sizes, dilations, **kwargs):\n",
        "        super().__init__(**kwargs)\n",
        "        assert len(kernel_sizes) == len(dilations), \"kernel_sizes e dilations devem ter mesmo tamanho\"\n",
        "        self.branches = []\n",
        "        for k, d in zip(kernel_sizes, dilations):\n",
        "            self.branches.append(\n",
        "                layers.Conv2D(\n",
        "                    filters=out_channels,\n",
        "                    kernel_size=k,\n",
        "                    padding=\"same\",\n",
        "                    dilation_rate=d,\n",
        "                    activation=\"relu\"\n",
        "                )\n",
        "            )\n",
        "        self.project = layers.Conv2D(filters=out_channels, kernel_size=1, activation=\"relu\")\n",
        "\n",
        "    def call(self, x):\n",
        "        feats = [branch(x) for branch in self.branches]\n",
        "        x_cat = tf.concat(feats, axis=-1)\n",
        "        return self.project(x_cat)"
      ]
    },
    {
      "cell_type": "code",
      "execution_count": 9,
      "metadata": {},
      "outputs": [
        {
          "data": {
            "text/html": [
              "<pre style=\"white-space:pre;overflow-x:auto;line-height:normal;font-family:Menlo,'DejaVu Sans Mono',consolas,'Courier New',monospace\"><span style=\"font-weight: bold\">Model: \"ResNet50_PDF_SE_Clf\"</span>\n",
              "</pre>\n"
            ],
            "text/plain": [
              "\u001b[1mModel: \"ResNet50_PDF_SE_Clf\"\u001b[0m\n"
            ]
          },
          "metadata": {},
          "output_type": "display_data"
        },
        {
          "data": {
            "text/html": [
              "<pre style=\"white-space:pre;overflow-x:auto;line-height:normal;font-family:Menlo,'DejaVu Sans Mono',consolas,'Courier New',monospace\">┏━━━━━━━━━━━━━━━━━━━━━━━━━━━━━━━━━┳━━━━━━━━━━━━━━━━━━━━━━━━┳━━━━━━━━━━━━━━━┓\n",
              "┃<span style=\"font-weight: bold\"> Layer (type)                    </span>┃<span style=\"font-weight: bold\"> Output Shape           </span>┃<span style=\"font-weight: bold\">       Param # </span>┃\n",
              "┡━━━━━━━━━━━━━━━━━━━━━━━━━━━━━━━━━╇━━━━━━━━━━━━━━━━━━━━━━━━╇━━━━━━━━━━━━━━━┩\n",
              "│ input_image (<span style=\"color: #0087ff; text-decoration-color: #0087ff\">InputLayer</span>)        │ (<span style=\"color: #00d7ff; text-decoration-color: #00d7ff\">None</span>, <span style=\"color: #00af00; text-decoration-color: #00af00\">224</span>, <span style=\"color: #00af00; text-decoration-color: #00af00\">224</span>, <span style=\"color: #00af00; text-decoration-color: #00af00\">3</span>)    │             <span style=\"color: #00af00; text-decoration-color: #00af00\">0</span> │\n",
              "├─────────────────────────────────┼────────────────────────┼───────────────┤\n",
              "│ resnet50 (<span style=\"color: #0087ff; text-decoration-color: #0087ff\">Functional</span>)           │ (<span style=\"color: #00d7ff; text-decoration-color: #00d7ff\">None</span>, <span style=\"color: #00af00; text-decoration-color: #00af00\">7</span>, <span style=\"color: #00af00; text-decoration-color: #00af00\">7</span>, <span style=\"color: #00af00; text-decoration-color: #00af00\">2048</span>)     │    <span style=\"color: #00af00; text-decoration-color: #00af00\">23,587,712</span> │\n",
              "├─────────────────────────────────┼────────────────────────┼───────────────┤\n",
              "│ pdf_block (<span style=\"color: #0087ff; text-decoration-color: #0087ff\">PDFBlock</span>)            │ (<span style=\"color: #00d7ff; text-decoration-color: #00d7ff\">None</span>, <span style=\"color: #00af00; text-decoration-color: #00af00\">7</span>, <span style=\"color: #00af00; text-decoration-color: #00af00\">7</span>, <span style=\"color: #00af00; text-decoration-color: #00af00\">512</span>)      │    <span style=\"color: #00af00; text-decoration-color: #00af00\">89,131,520</span> │\n",
              "├─────────────────────────────────┼────────────────────────┼───────────────┤\n",
              "│ se_block (<span style=\"color: #0087ff; text-decoration-color: #0087ff\">SEBlock</span>)              │ (<span style=\"color: #00d7ff; text-decoration-color: #00d7ff\">None</span>, <span style=\"color: #00af00; text-decoration-color: #00af00\">7</span>, <span style=\"color: #00af00; text-decoration-color: #00af00\">7</span>, <span style=\"color: #00af00; text-decoration-color: #00af00\">512</span>)      │        <span style=\"color: #00af00; text-decoration-color: #00af00\">33,312</span> │\n",
              "├─────────────────────────────────┼────────────────────────┼───────────────┤\n",
              "│ gap (<span style=\"color: #0087ff; text-decoration-color: #0087ff\">GlobalAveragePooling2D</span>)    │ (<span style=\"color: #00d7ff; text-decoration-color: #00d7ff\">None</span>, <span style=\"color: #00af00; text-decoration-color: #00af00\">512</span>)            │             <span style=\"color: #00af00; text-decoration-color: #00af00\">0</span> │\n",
              "├─────────────────────────────────┼────────────────────────┼───────────────┤\n",
              "│ fc1 (<span style=\"color: #0087ff; text-decoration-color: #0087ff\">Dense</span>)                     │ (<span style=\"color: #00d7ff; text-decoration-color: #00d7ff\">None</span>, <span style=\"color: #00af00; text-decoration-color: #00af00\">256</span>)            │       <span style=\"color: #00af00; text-decoration-color: #00af00\">131,328</span> │\n",
              "├─────────────────────────────────┼────────────────────────┼───────────────┤\n",
              "│ dropout (<span style=\"color: #0087ff; text-decoration-color: #0087ff\">Dropout</span>)               │ (<span style=\"color: #00d7ff; text-decoration-color: #00d7ff\">None</span>, <span style=\"color: #00af00; text-decoration-color: #00af00\">256</span>)            │             <span style=\"color: #00af00; text-decoration-color: #00af00\">0</span> │\n",
              "├─────────────────────────────────┼────────────────────────┼───────────────┤\n",
              "│ output (<span style=\"color: #0087ff; text-decoration-color: #0087ff\">Dense</span>)                  │ (<span style=\"color: #00d7ff; text-decoration-color: #00d7ff\">None</span>, <span style=\"color: #00af00; text-decoration-color: #00af00\">1</span>)              │           <span style=\"color: #00af00; text-decoration-color: #00af00\">257</span> │\n",
              "└─────────────────────────────────┴────────────────────────┴───────────────┘\n",
              "</pre>\n"
            ],
            "text/plain": [
              "┏━━━━━━━━━━━━━━━━━━━━━━━━━━━━━━━━━┳━━━━━━━━━━━━━━━━━━━━━━━━┳━━━━━━━━━━━━━━━┓\n",
              "┃\u001b[1m \u001b[0m\u001b[1mLayer (type)                   \u001b[0m\u001b[1m \u001b[0m┃\u001b[1m \u001b[0m\u001b[1mOutput Shape          \u001b[0m\u001b[1m \u001b[0m┃\u001b[1m \u001b[0m\u001b[1m      Param #\u001b[0m\u001b[1m \u001b[0m┃\n",
              "┡━━━━━━━━━━━━━━━━━━━━━━━━━━━━━━━━━╇━━━━━━━━━━━━━━━━━━━━━━━━╇━━━━━━━━━━━━━━━┩\n",
              "│ input_image (\u001b[38;5;33mInputLayer\u001b[0m)        │ (\u001b[38;5;45mNone\u001b[0m, \u001b[38;5;34m224\u001b[0m, \u001b[38;5;34m224\u001b[0m, \u001b[38;5;34m3\u001b[0m)    │             \u001b[38;5;34m0\u001b[0m │\n",
              "├─────────────────────────────────┼────────────────────────┼───────────────┤\n",
              "│ resnet50 (\u001b[38;5;33mFunctional\u001b[0m)           │ (\u001b[38;5;45mNone\u001b[0m, \u001b[38;5;34m7\u001b[0m, \u001b[38;5;34m7\u001b[0m, \u001b[38;5;34m2048\u001b[0m)     │    \u001b[38;5;34m23,587,712\u001b[0m │\n",
              "├─────────────────────────────────┼────────────────────────┼───────────────┤\n",
              "│ pdf_block (\u001b[38;5;33mPDFBlock\u001b[0m)            │ (\u001b[38;5;45mNone\u001b[0m, \u001b[38;5;34m7\u001b[0m, \u001b[38;5;34m7\u001b[0m, \u001b[38;5;34m512\u001b[0m)      │    \u001b[38;5;34m89,131,520\u001b[0m │\n",
              "├─────────────────────────────────┼────────────────────────┼───────────────┤\n",
              "│ se_block (\u001b[38;5;33mSEBlock\u001b[0m)              │ (\u001b[38;5;45mNone\u001b[0m, \u001b[38;5;34m7\u001b[0m, \u001b[38;5;34m7\u001b[0m, \u001b[38;5;34m512\u001b[0m)      │        \u001b[38;5;34m33,312\u001b[0m │\n",
              "├─────────────────────────────────┼────────────────────────┼───────────────┤\n",
              "│ gap (\u001b[38;5;33mGlobalAveragePooling2D\u001b[0m)    │ (\u001b[38;5;45mNone\u001b[0m, \u001b[38;5;34m512\u001b[0m)            │             \u001b[38;5;34m0\u001b[0m │\n",
              "├─────────────────────────────────┼────────────────────────┼───────────────┤\n",
              "│ fc1 (\u001b[38;5;33mDense\u001b[0m)                     │ (\u001b[38;5;45mNone\u001b[0m, \u001b[38;5;34m256\u001b[0m)            │       \u001b[38;5;34m131,328\u001b[0m │\n",
              "├─────────────────────────────────┼────────────────────────┼───────────────┤\n",
              "│ dropout (\u001b[38;5;33mDropout\u001b[0m)               │ (\u001b[38;5;45mNone\u001b[0m, \u001b[38;5;34m256\u001b[0m)            │             \u001b[38;5;34m0\u001b[0m │\n",
              "├─────────────────────────────────┼────────────────────────┼───────────────┤\n",
              "│ output (\u001b[38;5;33mDense\u001b[0m)                  │ (\u001b[38;5;45mNone\u001b[0m, \u001b[38;5;34m1\u001b[0m)              │           \u001b[38;5;34m257\u001b[0m │\n",
              "└─────────────────────────────────┴────────────────────────┴───────────────┘\n"
            ]
          },
          "metadata": {},
          "output_type": "display_data"
        },
        {
          "data": {
            "text/html": [
              "<pre style=\"white-space:pre;overflow-x:auto;line-height:normal;font-family:Menlo,'DejaVu Sans Mono',consolas,'Courier New',monospace\"><span style=\"font-weight: bold\"> Total params: </span><span style=\"color: #00af00; text-decoration-color: #00af00\">112,884,129</span> (430.62 MB)\n",
              "</pre>\n"
            ],
            "text/plain": [
              "\u001b[1m Total params: \u001b[0m\u001b[38;5;34m112,884,129\u001b[0m (430.62 MB)\n"
            ]
          },
          "metadata": {},
          "output_type": "display_data"
        },
        {
          "data": {
            "text/html": [
              "<pre style=\"white-space:pre;overflow-x:auto;line-height:normal;font-family:Menlo,'DejaVu Sans Mono',consolas,'Courier New',monospace\"><span style=\"font-weight: bold\"> Trainable params: </span><span style=\"color: #00af00; text-decoration-color: #00af00\">89,296,417</span> (340.64 MB)\n",
              "</pre>\n"
            ],
            "text/plain": [
              "\u001b[1m Trainable params: \u001b[0m\u001b[38;5;34m89,296,417\u001b[0m (340.64 MB)\n"
            ]
          },
          "metadata": {},
          "output_type": "display_data"
        },
        {
          "data": {
            "text/html": [
              "<pre style=\"white-space:pre;overflow-x:auto;line-height:normal;font-family:Menlo,'DejaVu Sans Mono',consolas,'Courier New',monospace\"><span style=\"font-weight: bold\"> Non-trainable params: </span><span style=\"color: #00af00; text-decoration-color: #00af00\">23,587,712</span> (89.98 MB)\n",
              "</pre>\n"
            ],
            "text/plain": [
              "\u001b[1m Non-trainable params: \u001b[0m\u001b[38;5;34m23,587,712\u001b[0m (89.98 MB)\n"
            ]
          },
          "metadata": {},
          "output_type": "display_data"
        }
      ],
      "source": [
        "# 1) Backbone ResNet50 sem top layer, retendo mapa espacial\n",
        "backbone = ResNet50(\n",
        "    include_top=False,\n",
        "    weights=\"imagenet\",\n",
        "    input_shape=(*IMG_SIZE, 3)\n",
        ")\n",
        "backbone.trainable = False  # congelado no início\n",
        "\n",
        "# 2) Construção do grafo\n",
        "inp = Input(shape=(*IMG_SIZE, 3), name=\"input_image\")\n",
        "x   = backbone(inp)                            # [B, H', W', C=2048]\n",
        "\n",
        "# 3) Aplicar PDFBlock (multi‐escala)\n",
        "x = PDFBlock(\n",
        "    out_channels=512,\n",
        "    kernel_sizes=[1, 3, 5, 7],\n",
        "    dilations=[1, 2, 3, 4]\n",
        ")(x)  # agora [B, H', W', 512]\n",
        "\n",
        "# 4) Recalibração de canais via SEBlock\n",
        "x = SEBlock(channels=512, reduction=16)(x)      # [B, H', W', 512]\n",
        "\n",
        "# 5) Agregação e cabeça de classificação\n",
        "x = layers.GlobalAveragePooling2D(name=\"gap\")(x)  # [B, 512]\n",
        "x = layers.Dense(256, activation=\"relu\", name=\"fc1\")(x)\n",
        "x = layers.Dropout(0.5, name=\"dropout\")(x)\n",
        "out = layers.Dense(1, activation=\"sigmoid\", name=\"output\")(x)\n",
        "\n",
        "model_clf = Model(inputs=inp, outputs=out, name=\"ResNet50_PDF_SE_Clf\")\n",
        "\n",
        "# 6) Compilação do modelo\n",
        "model_clf.compile(\n",
        "    optimizer=keras.optimizers.Adam(learning_rate=1e-4),\n",
        "    loss=\"binary_crossentropy\",\n",
        "    metrics=[\"accuracy\", tf.keras.metrics.AUC(name=\"auc\")]\n",
        ")\n",
        "\n",
        "model_clf.summary()"
      ]
    },
    {
      "cell_type": "markdown",
      "metadata": {},
      "source": [
        "---\n",
        "### **Passo 5:**\n",
        "#### Treino e monitoramento"
      ]
    },
    {
      "cell_type": "code",
      "execution_count": 10,
      "metadata": {},
      "outputs": [],
      "source": [
        "callbacks_list = [\n",
        "    callbacks.EarlyStopping(\n",
        "        monitor=\"val_loss\",\n",
        "        patience=5,\n",
        "        restore_best_weights=True,\n",
        "        verbose=1\n",
        "    ),\n",
        "    callbacks.ModelCheckpoint(\n",
        "        \"best_model.h5\",\n",
        "        monitor=\"val_auc\",\n",
        "        mode=\"max\",\n",
        "        save_best_only=True,\n",
        "        verbose=1\n",
        "    ),\n",
        "    callbacks.TensorBoard(\n",
        "        log_dir=\"logs\",\n",
        "        histogram_freq=1\n",
        "    )\n",
        "]"
      ]
    },
    {
      "cell_type": "code",
      "execution_count": null,
      "metadata": {},
      "outputs": [
        {
          "name": "stdout",
          "output_type": "stream",
          "text": [
            "Epoch 1/30\n",
            "\u001b[1m11/36\u001b[0m \u001b[32m━━━━━━\u001b[0m\u001b[37m━━━━━━━━━━━━━━\u001b[0m \u001b[1m16:23\u001b[0m 39s/step - accuracy: 0.5373 - auc: 0.5294 - loss: 0.7248"
          ]
        }
      ],
      "source": [
        "history = model_clf.fit(\n",
        "    train_ds,\n",
        "    validation_data=val_ds,\n",
        "    epochs=30,\n",
        "    callbacks=callbacks_list\n",
        ")"
      ]
    },
    {
      "cell_type": "code",
      "execution_count": null,
      "metadata": {},
      "outputs": [],
      "source": []
    }
  ],
  "metadata": {
    "colab": {
      "name": "10_ProjetoFinalParaEntregar.ipynb",
      "provenance": []
    },
    "kernelspec": {
      "display_name": "venv",
      "language": "python",
      "name": "python3"
    },
    "language_info": {
      "codemirror_mode": {
        "name": "ipython",
        "version": 3
      },
      "file_extension": ".py",
      "mimetype": "text/x-python",
      "name": "python",
      "nbconvert_exporter": "python",
      "pygments_lexer": "ipython3",
      "version": "3.9.22"
    }
  },
  "nbformat": 4,
  "nbformat_minor": 0
}
